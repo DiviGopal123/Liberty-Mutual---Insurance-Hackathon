{
 "cells": [
  {
   "cell_type": "markdown",
   "id": "7833540a",
   "metadata": {},
   "source": [
    "Import libraries"
   ]
  },
  {
   "cell_type": "code",
   "execution_count": 388,
   "id": "289a31ad",
   "metadata": {},
   "outputs": [],
   "source": [
    "import pandas as pd\n",
    "import numpy as np\n",
    "import seaborn as sns\n",
    "import matplotlib.pyplot as plt\n",
    "import warnings\n",
    "warnings.filterwarnings(\"ignore\")"
   ]
  },
  {
   "cell_type": "markdown",
   "id": "e3e8f4b6",
   "metadata": {},
   "source": [
    "Load the dataset"
   ]
  },
  {
   "cell_type": "code",
   "execution_count": 389,
   "id": "7a42eb72",
   "metadata": {},
   "outputs": [
    {
     "data": {
      "text/html": [
       "<div>\n",
       "<style scoped>\n",
       "    .dataframe tbody tr th:only-of-type {\n",
       "        vertical-align: middle;\n",
       "    }\n",
       "\n",
       "    .dataframe tbody tr th {\n",
       "        vertical-align: top;\n",
       "    }\n",
       "\n",
       "    .dataframe thead th {\n",
       "        text-align: right;\n",
       "    }\n",
       "</style>\n",
       "<table border=\"1\" class=\"dataframe\">\n",
       "  <thead>\n",
       "    <tr style=\"text-align: right;\">\n",
       "      <th></th>\n",
       "      <th>Customer_ID</th>\n",
       "      <th>City</th>\n",
       "      <th>Work_Status</th>\n",
       "      <th>Gender</th>\n",
       "      <th>Coverage_Type</th>\n",
       "      <th>Accessbility</th>\n",
       "      <th>Vehicle_Type</th>\n",
       "      <th>Monthly_Premium</th>\n",
       "      <th>Open_Policies</th>\n",
       "      <th>Renew_Offer_Type</th>\n",
       "      <th>Vehicle_Age_In_Years</th>\n",
       "      <th>Weeks_Since_Claim</th>\n",
       "      <th>Churn</th>\n",
       "    </tr>\n",
       "  </thead>\n",
       "  <tbody>\n",
       "    <tr>\n",
       "      <th>0</th>\n",
       "      <td>10000000</td>\n",
       "      <td>Indianapolis</td>\n",
       "      <td>Employed</td>\n",
       "      <td>Female</td>\n",
       "      <td>Primary_Plan</td>\n",
       "      <td>Agents</td>\n",
       "      <td>Coupe_2 Door</td>\n",
       "      <td>138</td>\n",
       "      <td>1</td>\n",
       "      <td>1</td>\n",
       "      <td>10</td>\n",
       "      <td>138</td>\n",
       "      <td>No</td>\n",
       "    </tr>\n",
       "    <tr>\n",
       "      <th>1</th>\n",
       "      <td>10000001</td>\n",
       "      <td>Tampa</td>\n",
       "      <td>Unemployed</td>\n",
       "      <td>Female</td>\n",
       "      <td>Extended_Plan</td>\n",
       "      <td>Agents</td>\n",
       "      <td>Sedan_4 Door</td>\n",
       "      <td>188</td>\n",
       "      <td>8</td>\n",
       "      <td>3</td>\n",
       "      <td>2</td>\n",
       "      <td>56</td>\n",
       "      <td>No</td>\n",
       "    </tr>\n",
       "    <tr>\n",
       "      <th>2</th>\n",
       "      <td>10000002</td>\n",
       "      <td>Fairfield</td>\n",
       "      <td>Employed</td>\n",
       "      <td>Female</td>\n",
       "      <td>Premium_Plan</td>\n",
       "      <td>Agents</td>\n",
       "      <td>Coupe_2 Door</td>\n",
       "      <td>216</td>\n",
       "      <td>2</td>\n",
       "      <td>1</td>\n",
       "      <td>2</td>\n",
       "      <td>77</td>\n",
       "      <td>No</td>\n",
       "    </tr>\n",
       "    <tr>\n",
       "      <th>3</th>\n",
       "      <td>10000003</td>\n",
       "      <td>Boston</td>\n",
       "      <td>Unemployed</td>\n",
       "      <td>Male</td>\n",
       "      <td>Primary_Plan</td>\n",
       "      <td>Customer_Call_Centre</td>\n",
       "      <td>SUV</td>\n",
       "      <td>212</td>\n",
       "      <td>7</td>\n",
       "      <td>1</td>\n",
       "      <td>2</td>\n",
       "      <td>77</td>\n",
       "      <td>No</td>\n",
       "    </tr>\n",
       "    <tr>\n",
       "      <th>4</th>\n",
       "      <td>10000004</td>\n",
       "      <td>Indianapolis</td>\n",
       "      <td>Employed</td>\n",
       "      <td>Male</td>\n",
       "      <td>Primary_Plan</td>\n",
       "      <td>Agents</td>\n",
       "      <td>Sedan_4 Door</td>\n",
       "      <td>146</td>\n",
       "      <td>1</td>\n",
       "      <td>1</td>\n",
       "      <td>3</td>\n",
       "      <td>52</td>\n",
       "      <td>No</td>\n",
       "    </tr>\n",
       "  </tbody>\n",
       "</table>\n",
       "</div>"
      ],
      "text/plain": [
       "   Customer_ID          City Work_Status  Gender  Coverage_Type  \\\n",
       "0     10000000  Indianapolis    Employed  Female   Primary_Plan   \n",
       "1     10000001         Tampa  Unemployed  Female  Extended_Plan   \n",
       "2     10000002     Fairfield    Employed  Female   Premium_Plan   \n",
       "3     10000003        Boston  Unemployed    Male   Primary_Plan   \n",
       "4     10000004  Indianapolis    Employed    Male   Primary_Plan   \n",
       "\n",
       "           Accessbility  Vehicle_Type  Monthly_Premium  Open_Policies  \\\n",
       "0                Agents  Coupe_2 Door              138              1   \n",
       "1                Agents  Sedan_4 Door              188              8   \n",
       "2                Agents  Coupe_2 Door              216              2   \n",
       "3  Customer_Call_Centre           SUV              212              7   \n",
       "4                Agents  Sedan_4 Door              146              1   \n",
       "\n",
       "   Renew_Offer_Type  Vehicle_Age_In_Years  Weeks_Since_Claim Churn  \n",
       "0                 1                    10                138    No  \n",
       "1                 3                     2                 56    No  \n",
       "2                 1                     2                 77    No  \n",
       "3                 1                     2                 77    No  \n",
       "4                 1                     3                 52    No  "
      ]
     },
     "execution_count": 389,
     "metadata": {},
     "output_type": "execute_result"
    }
   ],
   "source": [
    "df = pd.read_csv('Vehicle_Insurance_Data.csv')\n",
    "df.head()"
   ]
  },
  {
   "cell_type": "markdown",
   "id": "b065ad43",
   "metadata": {},
   "source": [
    "Drop unnecessary columns which are not required for processing."
   ]
  },
  {
   "cell_type": "code",
   "execution_count": 390,
   "id": "0e6fe59a",
   "metadata": {},
   "outputs": [
    {
     "data": {
      "text/html": [
       "<div>\n",
       "<style scoped>\n",
       "    .dataframe tbody tr th:only-of-type {\n",
       "        vertical-align: middle;\n",
       "    }\n",
       "\n",
       "    .dataframe tbody tr th {\n",
       "        vertical-align: top;\n",
       "    }\n",
       "\n",
       "    .dataframe thead th {\n",
       "        text-align: right;\n",
       "    }\n",
       "</style>\n",
       "<table border=\"1\" class=\"dataframe\">\n",
       "  <thead>\n",
       "    <tr style=\"text-align: right;\">\n",
       "      <th></th>\n",
       "      <th>City</th>\n",
       "      <th>Work_Status</th>\n",
       "      <th>Gender</th>\n",
       "      <th>Coverage_Type</th>\n",
       "      <th>Accessbility</th>\n",
       "      <th>Vehicle_Type</th>\n",
       "      <th>Monthly_Premium</th>\n",
       "      <th>Open_Policies</th>\n",
       "      <th>Renew_Offer_Type</th>\n",
       "      <th>Vehicle_Age_In_Years</th>\n",
       "      <th>Weeks_Since_Claim</th>\n",
       "      <th>Churn</th>\n",
       "    </tr>\n",
       "  </thead>\n",
       "  <tbody>\n",
       "    <tr>\n",
       "      <th>0</th>\n",
       "      <td>Indianapolis</td>\n",
       "      <td>Employed</td>\n",
       "      <td>Female</td>\n",
       "      <td>Primary_Plan</td>\n",
       "      <td>Agents</td>\n",
       "      <td>Coupe_2 Door</td>\n",
       "      <td>138</td>\n",
       "      <td>1</td>\n",
       "      <td>1</td>\n",
       "      <td>10</td>\n",
       "      <td>138</td>\n",
       "      <td>No</td>\n",
       "    </tr>\n",
       "    <tr>\n",
       "      <th>1</th>\n",
       "      <td>Tampa</td>\n",
       "      <td>Unemployed</td>\n",
       "      <td>Female</td>\n",
       "      <td>Extended_Plan</td>\n",
       "      <td>Agents</td>\n",
       "      <td>Sedan_4 Door</td>\n",
       "      <td>188</td>\n",
       "      <td>8</td>\n",
       "      <td>3</td>\n",
       "      <td>2</td>\n",
       "      <td>56</td>\n",
       "      <td>No</td>\n",
       "    </tr>\n",
       "    <tr>\n",
       "      <th>2</th>\n",
       "      <td>Fairfield</td>\n",
       "      <td>Employed</td>\n",
       "      <td>Female</td>\n",
       "      <td>Premium_Plan</td>\n",
       "      <td>Agents</td>\n",
       "      <td>Coupe_2 Door</td>\n",
       "      <td>216</td>\n",
       "      <td>2</td>\n",
       "      <td>1</td>\n",
       "      <td>2</td>\n",
       "      <td>77</td>\n",
       "      <td>No</td>\n",
       "    </tr>\n",
       "    <tr>\n",
       "      <th>3</th>\n",
       "      <td>Boston</td>\n",
       "      <td>Unemployed</td>\n",
       "      <td>Male</td>\n",
       "      <td>Primary_Plan</td>\n",
       "      <td>Customer_Call_Centre</td>\n",
       "      <td>SUV</td>\n",
       "      <td>212</td>\n",
       "      <td>7</td>\n",
       "      <td>1</td>\n",
       "      <td>2</td>\n",
       "      <td>77</td>\n",
       "      <td>No</td>\n",
       "    </tr>\n",
       "    <tr>\n",
       "      <th>4</th>\n",
       "      <td>Indianapolis</td>\n",
       "      <td>Employed</td>\n",
       "      <td>Male</td>\n",
       "      <td>Primary_Plan</td>\n",
       "      <td>Agents</td>\n",
       "      <td>Sedan_4 Door</td>\n",
       "      <td>146</td>\n",
       "      <td>1</td>\n",
       "      <td>1</td>\n",
       "      <td>3</td>\n",
       "      <td>52</td>\n",
       "      <td>No</td>\n",
       "    </tr>\n",
       "  </tbody>\n",
       "</table>\n",
       "</div>"
      ],
      "text/plain": [
       "           City Work_Status  Gender  Coverage_Type          Accessbility  \\\n",
       "0  Indianapolis    Employed  Female   Primary_Plan                Agents   \n",
       "1         Tampa  Unemployed  Female  Extended_Plan                Agents   \n",
       "2     Fairfield    Employed  Female   Premium_Plan                Agents   \n",
       "3        Boston  Unemployed    Male   Primary_Plan  Customer_Call_Centre   \n",
       "4  Indianapolis    Employed    Male   Primary_Plan                Agents   \n",
       "\n",
       "   Vehicle_Type  Monthly_Premium  Open_Policies  Renew_Offer_Type  \\\n",
       "0  Coupe_2 Door              138              1                 1   \n",
       "1  Sedan_4 Door              188              8                 3   \n",
       "2  Coupe_2 Door              216              2                 1   \n",
       "3           SUV              212              7                 1   \n",
       "4  Sedan_4 Door              146              1                 1   \n",
       "\n",
       "   Vehicle_Age_In_Years  Weeks_Since_Claim Churn  \n",
       "0                    10                138    No  \n",
       "1                     2                 56    No  \n",
       "2                     2                 77    No  \n",
       "3                     2                 77    No  \n",
       "4                     3                 52    No  "
      ]
     },
     "execution_count": 390,
     "metadata": {},
     "output_type": "execute_result"
    }
   ],
   "source": [
    "df=df.drop(columns=['Customer_ID'])\n",
    "df.head()"
   ]
  },
  {
   "cell_type": "markdown",
   "id": "1925c49a",
   "metadata": {},
   "source": [
    "Performing some analysis related to Data type & checking if it has some null values."
   ]
  },
  {
   "cell_type": "code",
   "execution_count": 391,
   "id": "68349b0e",
   "metadata": {},
   "outputs": [
    {
     "name": "stdout",
     "output_type": "stream",
     "text": [
      "<class 'pandas.core.frame.DataFrame'>\n",
      "RangeIndex: 4999 entries, 0 to 4998\n",
      "Data columns (total 12 columns):\n",
      " #   Column                Non-Null Count  Dtype \n",
      "---  ------                --------------  ----- \n",
      " 0   City                  4999 non-null   object\n",
      " 1   Work_Status           4999 non-null   object\n",
      " 2   Gender                4999 non-null   object\n",
      " 3   Coverage_Type         4999 non-null   object\n",
      " 4   Accessbility          4999 non-null   object\n",
      " 5   Vehicle_Type          4999 non-null   object\n",
      " 6   Monthly_Premium       4999 non-null   int64 \n",
      " 7   Open_Policies         4999 non-null   int64 \n",
      " 8   Renew_Offer_Type      4999 non-null   int64 \n",
      " 9   Vehicle_Age_In_Years  4999 non-null   int64 \n",
      " 10  Weeks_Since_Claim     4999 non-null   int64 \n",
      " 11  Churn                 4999 non-null   object\n",
      "dtypes: int64(5), object(7)\n",
      "memory usage: 468.8+ KB\n"
     ]
    }
   ],
   "source": [
    "df.info()"
   ]
  },
  {
   "cell_type": "code",
   "execution_count": 392,
   "id": "13896f27",
   "metadata": {},
   "outputs": [
    {
     "data": {
      "text/html": [
       "<div>\n",
       "<style scoped>\n",
       "    .dataframe tbody tr th:only-of-type {\n",
       "        vertical-align: middle;\n",
       "    }\n",
       "\n",
       "    .dataframe tbody tr th {\n",
       "        vertical-align: top;\n",
       "    }\n",
       "\n",
       "    .dataframe thead th {\n",
       "        text-align: right;\n",
       "    }\n",
       "</style>\n",
       "<table border=\"1\" class=\"dataframe\">\n",
       "  <thead>\n",
       "    <tr style=\"text-align: right;\">\n",
       "      <th></th>\n",
       "      <th>City</th>\n",
       "      <th>Work_Status</th>\n",
       "      <th>Gender</th>\n",
       "      <th>Coverage_Type</th>\n",
       "      <th>Accessbility</th>\n",
       "      <th>Vehicle_Type</th>\n",
       "      <th>Monthly_Premium</th>\n",
       "      <th>Open_Policies</th>\n",
       "      <th>Renew_Offer_Type</th>\n",
       "      <th>Vehicle_Age_In_Years</th>\n",
       "      <th>Weeks_Since_Claim</th>\n",
       "      <th>Churn</th>\n",
       "    </tr>\n",
       "  </thead>\n",
       "  <tbody>\n",
       "    <tr>\n",
       "      <th>count</th>\n",
       "      <td>4999</td>\n",
       "      <td>4999</td>\n",
       "      <td>4999</td>\n",
       "      <td>4999</td>\n",
       "      <td>4999</td>\n",
       "      <td>4999</td>\n",
       "      <td>4999.000000</td>\n",
       "      <td>4999.000000</td>\n",
       "      <td>4999.000000</td>\n",
       "      <td>4999.000000</td>\n",
       "      <td>4999.000000</td>\n",
       "      <td>4999</td>\n",
       "    </tr>\n",
       "    <tr>\n",
       "      <th>unique</th>\n",
       "      <td>5</td>\n",
       "      <td>5</td>\n",
       "      <td>2</td>\n",
       "      <td>3</td>\n",
       "      <td>4</td>\n",
       "      <td>6</td>\n",
       "      <td>NaN</td>\n",
       "      <td>NaN</td>\n",
       "      <td>NaN</td>\n",
       "      <td>NaN</td>\n",
       "      <td>NaN</td>\n",
       "      <td>2</td>\n",
       "    </tr>\n",
       "    <tr>\n",
       "      <th>top</th>\n",
       "      <td>Denver</td>\n",
       "      <td>Employed</td>\n",
       "      <td>Female</td>\n",
       "      <td>Primary_Plan</td>\n",
       "      <td>Agents</td>\n",
       "      <td>Sedan_4 Door</td>\n",
       "      <td>NaN</td>\n",
       "      <td>NaN</td>\n",
       "      <td>NaN</td>\n",
       "      <td>NaN</td>\n",
       "      <td>NaN</td>\n",
       "      <td>No</td>\n",
       "    </tr>\n",
       "    <tr>\n",
       "      <th>freq</th>\n",
       "      <td>1545</td>\n",
       "      <td>3125</td>\n",
       "      <td>2545</td>\n",
       "      <td>3081</td>\n",
       "      <td>1889</td>\n",
       "      <td>2533</td>\n",
       "      <td>NaN</td>\n",
       "      <td>NaN</td>\n",
       "      <td>NaN</td>\n",
       "      <td>NaN</td>\n",
       "      <td>NaN</td>\n",
       "      <td>4267</td>\n",
       "    </tr>\n",
       "    <tr>\n",
       "      <th>mean</th>\n",
       "      <td>NaN</td>\n",
       "      <td>NaN</td>\n",
       "      <td>NaN</td>\n",
       "      <td>NaN</td>\n",
       "      <td>NaN</td>\n",
       "      <td>NaN</td>\n",
       "      <td>186.400080</td>\n",
       "      <td>3.006201</td>\n",
       "      <td>1.969794</td>\n",
       "      <td>4.535507</td>\n",
       "      <td>65.030206</td>\n",
       "      <td>NaN</td>\n",
       "    </tr>\n",
       "    <tr>\n",
       "      <th>std</th>\n",
       "      <td>NaN</td>\n",
       "      <td>NaN</td>\n",
       "      <td>NaN</td>\n",
       "      <td>NaN</td>\n",
       "      <td>NaN</td>\n",
       "      <td>NaN</td>\n",
       "      <td>68.963619</td>\n",
       "      <td>2.426709</td>\n",
       "      <td>1.016120</td>\n",
       "      <td>2.489974</td>\n",
       "      <td>43.350915</td>\n",
       "      <td>NaN</td>\n",
       "    </tr>\n",
       "    <tr>\n",
       "      <th>min</th>\n",
       "      <td>NaN</td>\n",
       "      <td>NaN</td>\n",
       "      <td>NaN</td>\n",
       "      <td>NaN</td>\n",
       "      <td>NaN</td>\n",
       "      <td>NaN</td>\n",
       "      <td>122.000000</td>\n",
       "      <td>1.000000</td>\n",
       "      <td>1.000000</td>\n",
       "      <td>1.000000</td>\n",
       "      <td>0.000000</td>\n",
       "      <td>NaN</td>\n",
       "    </tr>\n",
       "    <tr>\n",
       "      <th>25%</th>\n",
       "      <td>NaN</td>\n",
       "      <td>NaN</td>\n",
       "      <td>NaN</td>\n",
       "      <td>NaN</td>\n",
       "      <td>NaN</td>\n",
       "      <td>NaN</td>\n",
       "      <td>138.000000</td>\n",
       "      <td>1.000000</td>\n",
       "      <td>1.000000</td>\n",
       "      <td>2.000000</td>\n",
       "      <td>26.000000</td>\n",
       "      <td>NaN</td>\n",
       "    </tr>\n",
       "    <tr>\n",
       "      <th>50%</th>\n",
       "      <td>NaN</td>\n",
       "      <td>NaN</td>\n",
       "      <td>NaN</td>\n",
       "      <td>NaN</td>\n",
       "      <td>NaN</td>\n",
       "      <td>NaN</td>\n",
       "      <td>166.000000</td>\n",
       "      <td>2.000000</td>\n",
       "      <td>2.000000</td>\n",
       "      <td>4.000000</td>\n",
       "      <td>60.000000</td>\n",
       "      <td>NaN</td>\n",
       "    </tr>\n",
       "    <tr>\n",
       "      <th>75%</th>\n",
       "      <td>NaN</td>\n",
       "      <td>NaN</td>\n",
       "      <td>NaN</td>\n",
       "      <td>NaN</td>\n",
       "      <td>NaN</td>\n",
       "      <td>NaN</td>\n",
       "      <td>218.000000</td>\n",
       "      <td>4.000000</td>\n",
       "      <td>3.000000</td>\n",
       "      <td>6.000000</td>\n",
       "      <td>99.000000</td>\n",
       "      <td>NaN</td>\n",
       "    </tr>\n",
       "    <tr>\n",
       "      <th>max</th>\n",
       "      <td>NaN</td>\n",
       "      <td>NaN</td>\n",
       "      <td>NaN</td>\n",
       "      <td>NaN</td>\n",
       "      <td>NaN</td>\n",
       "      <td>NaN</td>\n",
       "      <td>594.000000</td>\n",
       "      <td>9.000000</td>\n",
       "      <td>4.000000</td>\n",
       "      <td>10.000000</td>\n",
       "      <td>150.000000</td>\n",
       "      <td>NaN</td>\n",
       "    </tr>\n",
       "  </tbody>\n",
       "</table>\n",
       "</div>"
      ],
      "text/plain": [
       "          City Work_Status  Gender Coverage_Type Accessbility  Vehicle_Type  \\\n",
       "count     4999        4999    4999          4999         4999          4999   \n",
       "unique       5           5       2             3            4             6   \n",
       "top     Denver    Employed  Female  Primary_Plan       Agents  Sedan_4 Door   \n",
       "freq      1545        3125    2545          3081         1889          2533   \n",
       "mean       NaN         NaN     NaN           NaN          NaN           NaN   \n",
       "std        NaN         NaN     NaN           NaN          NaN           NaN   \n",
       "min        NaN         NaN     NaN           NaN          NaN           NaN   \n",
       "25%        NaN         NaN     NaN           NaN          NaN           NaN   \n",
       "50%        NaN         NaN     NaN           NaN          NaN           NaN   \n",
       "75%        NaN         NaN     NaN           NaN          NaN           NaN   \n",
       "max        NaN         NaN     NaN           NaN          NaN           NaN   \n",
       "\n",
       "        Monthly_Premium  Open_Policies  Renew_Offer_Type  \\\n",
       "count       4999.000000    4999.000000       4999.000000   \n",
       "unique              NaN            NaN               NaN   \n",
       "top                 NaN            NaN               NaN   \n",
       "freq                NaN            NaN               NaN   \n",
       "mean         186.400080       3.006201          1.969794   \n",
       "std           68.963619       2.426709          1.016120   \n",
       "min          122.000000       1.000000          1.000000   \n",
       "25%          138.000000       1.000000          1.000000   \n",
       "50%          166.000000       2.000000          2.000000   \n",
       "75%          218.000000       4.000000          3.000000   \n",
       "max          594.000000       9.000000          4.000000   \n",
       "\n",
       "        Vehicle_Age_In_Years  Weeks_Since_Claim Churn  \n",
       "count            4999.000000        4999.000000  4999  \n",
       "unique                   NaN                NaN     2  \n",
       "top                      NaN                NaN    No  \n",
       "freq                     NaN                NaN  4267  \n",
       "mean                4.535507          65.030206   NaN  \n",
       "std                 2.489974          43.350915   NaN  \n",
       "min                 1.000000           0.000000   NaN  \n",
       "25%                 2.000000          26.000000   NaN  \n",
       "50%                 4.000000          60.000000   NaN  \n",
       "75%                 6.000000          99.000000   NaN  \n",
       "max                10.000000         150.000000   NaN  "
      ]
     },
     "execution_count": 392,
     "metadata": {},
     "output_type": "execute_result"
    }
   ],
   "source": [
    "df.describe(include='all')"
   ]
  },
  {
   "cell_type": "code",
   "execution_count": 393,
   "id": "e4333c8d",
   "metadata": {},
   "outputs": [
    {
     "data": {
      "text/plain": [
       "City                    0\n",
       "Work_Status             0\n",
       "Gender                  0\n",
       "Coverage_Type           0\n",
       "Accessbility            0\n",
       "Vehicle_Type            0\n",
       "Monthly_Premium         0\n",
       "Open_Policies           0\n",
       "Renew_Offer_Type        0\n",
       "Vehicle_Age_In_Years    0\n",
       "Weeks_Since_Claim       0\n",
       "Churn                   0\n",
       "dtype: int64"
      ]
     },
     "execution_count": 393,
     "metadata": {},
     "output_type": "execute_result"
    }
   ],
   "source": [
    "df.isnull().sum()"
   ]
  },
  {
   "cell_type": "code",
   "execution_count": 394,
   "id": "ba605ee2",
   "metadata": {},
   "outputs": [
    {
     "data": {
      "text/plain": [
       "Index(['City', 'Work_Status', 'Gender', 'Coverage_Type', 'Accessbility',\n",
       "       'Vehicle_Type', 'Monthly_Premium', 'Open_Policies', 'Renew_Offer_Type',\n",
       "       'Vehicle_Age_In_Years', 'Weeks_Since_Claim', 'Churn'],\n",
       "      dtype='object')"
      ]
     },
     "execution_count": 394,
     "metadata": {},
     "output_type": "execute_result"
    }
   ],
   "source": [
    "df.columns"
   ]
  },
  {
   "cell_type": "code",
   "execution_count": 395,
   "id": "4183ea84",
   "metadata": {},
   "outputs": [
    {
     "data": {
      "text/plain": [
       "No     4267\n",
       "Yes     732\n",
       "Name: Churn, dtype: int64"
      ]
     },
     "execution_count": 395,
     "metadata": {},
     "output_type": "execute_result"
    }
   ],
   "source": [
    "df['Churn'].value_counts()"
   ]
  },
  {
   "cell_type": "code",
   "execution_count": 396,
   "id": "fe67c030",
   "metadata": {},
   "outputs": [
    {
     "data": {
      "text/plain": [
       "<AxesSubplot:xlabel='Churn', ylabel='count'>"
      ]
     },
     "execution_count": 396,
     "metadata": {},
     "output_type": "execute_result"
    },
    {
     "data": {
      "image/png": "[encoded data removed]",
      "text/plain": [
       "<Figure size 432x288 with 1 Axes>"
      ]
     },
     "metadata": {
      "needs_background": "light"
     },
     "output_type": "display_data"
    }
   ],
   "source": [
    "sns.countplot(df['Churn'])"
   ]
  },
  {
   "cell_type": "code",
   "execution_count": 397,
   "id": "f90db129",
   "metadata": {},
   "outputs": [],
   "source": [
    "df_copy = df.copy()"
   ]
  },
  {
   "cell_type": "markdown",
   "id": "17fa19e0",
   "metadata": {},
   "source": [
    "Data Exploration:\n",
    "1. Plot distibution of individual predictors by churn\n",
    "\n",
    "Univariate Analysis"
   ]
  },
  {
   "cell_type": "code",
   "execution_count": 398,
   "id": "7238d8e5",
   "metadata": {},
   "outputs": [
    {
     "data": {
      "image/png": "[encoded data removed]",
      "text/plain": [
       "<Figure size 432x288 with 1 Axes>"
      ]
     },
     "metadata": {
      "needs_background": "light"
     },
     "output_type": "display_data"
    },
    {
     "data": {
      "image/png": "[encoded data removed]",
      "text/plain": [
       "<Figure size 432x288 with 1 Axes>"
      ]
     },
     "metadata": {
      "needs_background": "light"
     },
     "output_type": "display_data"
    },
    {
     "data": {
      "image/png": "[encoded data removed]",
      "text/plain": [
       "<Figure size 432x288 with 1 Axes>"
      ]
     },
     "metadata": {
      "needs_background": "light"
     },
     "output_type": "display_data"
    },
    {
     "data": {
      "image/png": "[encoded data removed]",
      "text/plain": [
       "<Figure size 432x288 with 1 Axes>"
      ]
     },
     "metadata": {
      "needs_background": "light"
     },
     "output_type": "display_data"
    },
    {
     "data": {
      "image/png": "[encoded data removed]",
      "text/plain": [
       "<Figure size 432x288 with 1 Axes>"
      ]
     },
     "metadata": {
      "needs_background": "light"
     },
     "output_type": "display_data"
    },
    {
     "data": {
      "image/png": "[encoded data removed]",
      "text/plain": [
       "<Figure size 432x288 with 1 Axes>"
      ]
     },
     "metadata": {
      "needs_background": "light"
     },
     "output_type": "display_data"
    },
    {
     "data": {
      "image/png": "[encoded data removed]",
      "text/plain": [
       "<Figure size 432x288 with 1 Axes>"
      ]
     },
     "metadata": {
      "needs_background": "light"
     },
     "output_type": "display_data"
    },
    {
     "data": {
      "image/png": "[encoded data removed]",
      "text/plain": [
       "<Figure size 432x288 with 1 Axes>"
      ]
     },
     "metadata": {
      "needs_background": "light"
     },
     "output_type": "display_data"
    },
    {
     "data": {
      "image/png": "[encoded data removed]",
      "text/plain": [
       "<Figure size 432x288 with 1 Axes>"
      ]
     },
     "metadata": {
      "needs_background": "light"
     },
     "output_type": "display_data"
    },
    {
     "data": {
      "image/png": "[encoded data removed]",
      "text/plain": [
       "<Figure size 432x288 with 1 Axes>"
      ]
     },
     "metadata": {
      "needs_background": "light"
     },
     "output_type": "display_data"
    }
   ],
   "source": [
    "for i, predictor in enumerate(df_copy.drop(columns=['Churn','Monthly_Premium'])):\n",
    "    plt.figure(i)\n",
    "    sns.countplot(data=df_copy, x=predictor, hue='Churn')"
   ]
  },
  {
   "cell_type": "code",
   "execution_count": 399,
   "id": "a26994ff",
   "metadata": {},
   "outputs": [
    {
     "data": {
      "image/png": "[encoded data removed]",
      "text/plain": [
       "<Figure size 936x504 with 1 Axes>"
      ]
     },
     "metadata": {
      "needs_background": "light"
     },
     "output_type": "display_data"
    }
   ],
   "source": [
    "df_plot = df_copy.groupby(['Coverage_Type','Churn']).size().reset_index().pivot(columns='Coverage_Type', index='Churn', values=0)\n",
    "df_plot.plot(kind='bar', stacked=True,figsize=(13,7))\n",
    "plt.ylabel('Number of customers')\n",
    "plt.title('Vehicle insurance Coverage Type of customers');"
   ]
  },
  {
   "cell_type": "code",
   "execution_count": 400,
   "id": "f7eca710",
   "metadata": {},
   "outputs": [
    {
     "data": {
      "image/png": "[encoded data removed]",
      "text/plain": [
       "<Figure size 1440x720 with 2 Axes>"
      ]
     },
     "metadata": {
      "needs_background": "light"
     },
     "output_type": "display_data"
    }
   ],
   "source": [
    "plt.figure(figsize=(20,10)) \n",
    "sns.heatmap(df_copy.corr(), annot=True,linewidths = 2)\n",
    "plt.show()"
   ]
  },
  {
   "cell_type": "code",
   "execution_count": 401,
   "id": "b08b0fcc",
   "metadata": {},
   "outputs": [
    {
     "data": {
      "text/html": [
       "<div>\n",
       "<style scoped>\n",
       "    .dataframe tbody tr th:only-of-type {\n",
       "        vertical-align: middle;\n",
       "    }\n",
       "\n",
       "    .dataframe tbody tr th {\n",
       "        vertical-align: top;\n",
       "    }\n",
       "\n",
       "    .dataframe thead th {\n",
       "        text-align: right;\n",
       "    }\n",
       "</style>\n",
       "<table border=\"1\" class=\"dataframe\">\n",
       "  <thead>\n",
       "    <tr style=\"text-align: right;\">\n",
       "      <th></th>\n",
       "      <th>City</th>\n",
       "      <th>Work_Status</th>\n",
       "      <th>Gender</th>\n",
       "      <th>Coverage_Type</th>\n",
       "      <th>Accessbility</th>\n",
       "      <th>Vehicle_Type</th>\n",
       "      <th>Monthly_Premium</th>\n",
       "      <th>Open_Policies</th>\n",
       "      <th>Renew_Offer_Type</th>\n",
       "      <th>Vehicle_Age_In_Years</th>\n",
       "      <th>Weeks_Since_Claim</th>\n",
       "      <th>Churn</th>\n",
       "    </tr>\n",
       "  </thead>\n",
       "  <tbody>\n",
       "    <tr>\n",
       "      <th>0</th>\n",
       "      <td>Indianapolis</td>\n",
       "      <td>Employed</td>\n",
       "      <td>Female</td>\n",
       "      <td>Primary_Plan</td>\n",
       "      <td>Agents</td>\n",
       "      <td>Coupe_2 Door</td>\n",
       "      <td>138</td>\n",
       "      <td>1</td>\n",
       "      <td>1</td>\n",
       "      <td>10</td>\n",
       "      <td>138</td>\n",
       "      <td>0</td>\n",
       "    </tr>\n",
       "    <tr>\n",
       "      <th>1</th>\n",
       "      <td>Tampa</td>\n",
       "      <td>Unemployed</td>\n",
       "      <td>Female</td>\n",
       "      <td>Extended_Plan</td>\n",
       "      <td>Agents</td>\n",
       "      <td>Sedan_4 Door</td>\n",
       "      <td>188</td>\n",
       "      <td>8</td>\n",
       "      <td>3</td>\n",
       "      <td>2</td>\n",
       "      <td>56</td>\n",
       "      <td>0</td>\n",
       "    </tr>\n",
       "    <tr>\n",
       "      <th>2</th>\n",
       "      <td>Fairfield</td>\n",
       "      <td>Employed</td>\n",
       "      <td>Female</td>\n",
       "      <td>Premium_Plan</td>\n",
       "      <td>Agents</td>\n",
       "      <td>Coupe_2 Door</td>\n",
       "      <td>216</td>\n",
       "      <td>2</td>\n",
       "      <td>1</td>\n",
       "      <td>2</td>\n",
       "      <td>77</td>\n",
       "      <td>0</td>\n",
       "    </tr>\n",
       "    <tr>\n",
       "      <th>3</th>\n",
       "      <td>Boston</td>\n",
       "      <td>Unemployed</td>\n",
       "      <td>Male</td>\n",
       "      <td>Primary_Plan</td>\n",
       "      <td>Customer_Call_Centre</td>\n",
       "      <td>SUV</td>\n",
       "      <td>212</td>\n",
       "      <td>7</td>\n",
       "      <td>1</td>\n",
       "      <td>2</td>\n",
       "      <td>77</td>\n",
       "      <td>0</td>\n",
       "    </tr>\n",
       "    <tr>\n",
       "      <th>4</th>\n",
       "      <td>Indianapolis</td>\n",
       "      <td>Employed</td>\n",
       "      <td>Male</td>\n",
       "      <td>Primary_Plan</td>\n",
       "      <td>Agents</td>\n",
       "      <td>Sedan_4 Door</td>\n",
       "      <td>146</td>\n",
       "      <td>1</td>\n",
       "      <td>1</td>\n",
       "      <td>3</td>\n",
       "      <td>52</td>\n",
       "      <td>0</td>\n",
       "    </tr>\n",
       "  </tbody>\n",
       "</table>\n",
       "</div>"
      ],
      "text/plain": [
       "           City Work_Status  Gender  Coverage_Type          Accessbility  \\\n",
       "0  Indianapolis    Employed  Female   Primary_Plan                Agents   \n",
       "1         Tampa  Unemployed  Female  Extended_Plan                Agents   \n",
       "2     Fairfield    Employed  Female   Premium_Plan                Agents   \n",
       "3        Boston  Unemployed    Male   Primary_Plan  Customer_Call_Centre   \n",
       "4  Indianapolis    Employed    Male   Primary_Plan                Agents   \n",
       "\n",
       "   Vehicle_Type  Monthly_Premium  Open_Policies  Renew_Offer_Type  \\\n",
       "0  Coupe_2 Door              138              1                 1   \n",
       "1  Sedan_4 Door              188              8                 3   \n",
       "2  Coupe_2 Door              216              2                 1   \n",
       "3           SUV              212              7                 1   \n",
       "4  Sedan_4 Door              146              1                 1   \n",
       "\n",
       "   Vehicle_Age_In_Years  Weeks_Since_Claim  Churn  \n",
       "0                    10                138      0  \n",
       "1                     2                 56      0  \n",
       "2                     2                 77      0  \n",
       "3                     2                 77      0  \n",
       "4                     3                 52      0  "
      ]
     },
     "execution_count": 401,
     "metadata": {},
     "output_type": "execute_result"
    }
   ],
   "source": [
    "df_copy['Churn'] = np.where(df_copy.Churn == 'Yes',1,0)\n",
    "df_copy.head()"
   ]
  },
  {
   "cell_type": "code",
   "execution_count": 402,
   "id": "f3a67439",
   "metadata": {},
   "outputs": [
    {
     "data": {
      "text/html": [
       "<div>\n",
       "<style scoped>\n",
       "    .dataframe tbody tr th:only-of-type {\n",
       "        vertical-align: middle;\n",
       "    }\n",
       "\n",
       "    .dataframe tbody tr th {\n",
       "        vertical-align: top;\n",
       "    }\n",
       "\n",
       "    .dataframe thead th {\n",
       "        text-align: right;\n",
       "    }\n",
       "</style>\n",
       "<table border=\"1\" class=\"dataframe\">\n",
       "  <thead>\n",
       "    <tr style=\"text-align: right;\">\n",
       "      <th></th>\n",
       "      <th>Monthly_Premium</th>\n",
       "      <th>Open_Policies</th>\n",
       "      <th>Renew_Offer_Type</th>\n",
       "      <th>Vehicle_Age_In_Years</th>\n",
       "      <th>Weeks_Since_Claim</th>\n",
       "      <th>Churn</th>\n",
       "      <th>City_Boston</th>\n",
       "      <th>City_Denver</th>\n",
       "      <th>City_Fairfield</th>\n",
       "      <th>City_Indianapolis</th>\n",
       "      <th>...</th>\n",
       "      <th>Accessbility_Agents</th>\n",
       "      <th>Accessbility_Customer_Call_Centre</th>\n",
       "      <th>Accessbility_Direct Branch Contact</th>\n",
       "      <th>Accessbility_Website</th>\n",
       "      <th>Vehicle_Type_Coupe_2 Door</th>\n",
       "      <th>Vehicle_Type_Luxirious_Car</th>\n",
       "      <th>Vehicle_Type_Luxurious_SUV</th>\n",
       "      <th>Vehicle_Type_SUV</th>\n",
       "      <th>Vehicle_Type_Sedan_4 Door</th>\n",
       "      <th>Vehicle_Type_Sports Car</th>\n",
       "    </tr>\n",
       "  </thead>\n",
       "  <tbody>\n",
       "    <tr>\n",
       "      <th>0</th>\n",
       "      <td>138</td>\n",
       "      <td>1</td>\n",
       "      <td>1</td>\n",
       "      <td>10</td>\n",
       "      <td>138</td>\n",
       "      <td>0</td>\n",
       "      <td>0</td>\n",
       "      <td>0</td>\n",
       "      <td>0</td>\n",
       "      <td>1</td>\n",
       "      <td>...</td>\n",
       "      <td>1</td>\n",
       "      <td>0</td>\n",
       "      <td>0</td>\n",
       "      <td>0</td>\n",
       "      <td>1</td>\n",
       "      <td>0</td>\n",
       "      <td>0</td>\n",
       "      <td>0</td>\n",
       "      <td>0</td>\n",
       "      <td>0</td>\n",
       "    </tr>\n",
       "    <tr>\n",
       "      <th>1</th>\n",
       "      <td>188</td>\n",
       "      <td>8</td>\n",
       "      <td>3</td>\n",
       "      <td>2</td>\n",
       "      <td>56</td>\n",
       "      <td>0</td>\n",
       "      <td>0</td>\n",
       "      <td>0</td>\n",
       "      <td>0</td>\n",
       "      <td>0</td>\n",
       "      <td>...</td>\n",
       "      <td>1</td>\n",
       "      <td>0</td>\n",
       "      <td>0</td>\n",
       "      <td>0</td>\n",
       "      <td>0</td>\n",
       "      <td>0</td>\n",
       "      <td>0</td>\n",
       "      <td>0</td>\n",
       "      <td>1</td>\n",
       "      <td>0</td>\n",
       "    </tr>\n",
       "    <tr>\n",
       "      <th>2</th>\n",
       "      <td>216</td>\n",
       "      <td>2</td>\n",
       "      <td>1</td>\n",
       "      <td>2</td>\n",
       "      <td>77</td>\n",
       "      <td>0</td>\n",
       "      <td>0</td>\n",
       "      <td>0</td>\n",
       "      <td>1</td>\n",
       "      <td>0</td>\n",
       "      <td>...</td>\n",
       "      <td>1</td>\n",
       "      <td>0</td>\n",
       "      <td>0</td>\n",
       "      <td>0</td>\n",
       "      <td>1</td>\n",
       "      <td>0</td>\n",
       "      <td>0</td>\n",
       "      <td>0</td>\n",
       "      <td>0</td>\n",
       "      <td>0</td>\n",
       "    </tr>\n",
       "    <tr>\n",
       "      <th>3</th>\n",
       "      <td>212</td>\n",
       "      <td>7</td>\n",
       "      <td>1</td>\n",
       "      <td>2</td>\n",
       "      <td>77</td>\n",
       "      <td>0</td>\n",
       "      <td>1</td>\n",
       "      <td>0</td>\n",
       "      <td>0</td>\n",
       "      <td>0</td>\n",
       "      <td>...</td>\n",
       "      <td>0</td>\n",
       "      <td>1</td>\n",
       "      <td>0</td>\n",
       "      <td>0</td>\n",
       "      <td>0</td>\n",
       "      <td>0</td>\n",
       "      <td>0</td>\n",
       "      <td>1</td>\n",
       "      <td>0</td>\n",
       "      <td>0</td>\n",
       "    </tr>\n",
       "    <tr>\n",
       "      <th>4</th>\n",
       "      <td>146</td>\n",
       "      <td>1</td>\n",
       "      <td>1</td>\n",
       "      <td>3</td>\n",
       "      <td>52</td>\n",
       "      <td>0</td>\n",
       "      <td>0</td>\n",
       "      <td>0</td>\n",
       "      <td>0</td>\n",
       "      <td>1</td>\n",
       "      <td>...</td>\n",
       "      <td>1</td>\n",
       "      <td>0</td>\n",
       "      <td>0</td>\n",
       "      <td>0</td>\n",
       "      <td>0</td>\n",
       "      <td>0</td>\n",
       "      <td>0</td>\n",
       "      <td>0</td>\n",
       "      <td>1</td>\n",
       "      <td>0</td>\n",
       "    </tr>\n",
       "  </tbody>\n",
       "</table>\n",
       "<p>5 rows × 31 columns</p>\n",
       "</div>"
      ],
      "text/plain": [
       "   Monthly_Premium  Open_Policies  Renew_Offer_Type  Vehicle_Age_In_Years  \\\n",
       "0              138              1                 1                    10   \n",
       "1              188              8                 3                     2   \n",
       "2              216              2                 1                     2   \n",
       "3              212              7                 1                     2   \n",
       "4              146              1                 1                     3   \n",
       "\n",
       "   Weeks_Since_Claim  Churn  City_Boston  City_Denver  City_Fairfield  \\\n",
       "0                138      0            0            0               0   \n",
       "1                 56      0            0            0               0   \n",
       "2                 77      0            0            0               1   \n",
       "3                 77      0            1            0               0   \n",
       "4                 52      0            0            0               0   \n",
       "\n",
       "   City_Indianapolis  ...  Accessbility_Agents  \\\n",
       "0                  1  ...                    1   \n",
       "1                  0  ...                    1   \n",
       "2                  0  ...                    1   \n",
       "3                  0  ...                    0   \n",
       "4                  1  ...                    1   \n",
       "\n",
       "   Accessbility_Customer_Call_Centre  Accessbility_Direct Branch Contact  \\\n",
       "0                                  0                                   0   \n",
       "1                                  0                                   0   \n",
       "2                                  0                                   0   \n",
       "3                                  1                                   0   \n",
       "4                                  0                                   0   \n",
       "\n",
       "   Accessbility_Website  Vehicle_Type_Coupe_2 Door  \\\n",
       "0                     0                          1   \n",
       "1                     0                          0   \n",
       "2                     0                          1   \n",
       "3                     0                          0   \n",
       "4                     0                          0   \n",
       "\n",
       "   Vehicle_Type_Luxirious_Car  Vehicle_Type_Luxurious_SUV  Vehicle_Type_SUV  \\\n",
       "0                           0                           0                 0   \n",
       "1                           0                           0                 0   \n",
       "2                           0                           0                 0   \n",
       "3                           0                           0                 1   \n",
       "4                           0                           0                 0   \n",
       "\n",
       "   Vehicle_Type_Sedan_4 Door  Vehicle_Type_Sports Car  \n",
       "0                          0                        0  \n",
       "1                          1                        0  \n",
       "2                          0                        0  \n",
       "3                          0                        0  \n",
       "4                          1                        0  \n",
       "\n",
       "[5 rows x 31 columns]"
      ]
     },
     "execution_count": 402,
     "metadata": {},
     "output_type": "execute_result"
    }
   ],
   "source": [
    "df_copy_dummies = pd.get_dummies(df_copy)\n",
    "df_copy_dummies.head()"
   ]
  },
  {
   "cell_type": "code",
   "execution_count": 403,
   "id": "7a8ddc2c",
   "metadata": {},
   "outputs": [
    {
     "data": {
      "text/plain": [
       "Text(0.5, 1.0, 'Monthly Premium by churn')"
      ]
     },
     "execution_count": 403,
     "metadata": {},
     "output_type": "execute_result"
    },
    {
     "data": {
      "image/png": "[encoded data removed]",
      "text/plain": [
       "<Figure size 432x288 with 1 Axes>"
      ]
     },
     "metadata": {
      "needs_background": "light"
     },
     "output_type": "display_data"
    }
   ],
   "source": [
    "Mth = sns.kdeplot(df_copy_dummies.Monthly_Premium[(df_copy_dummies[\"Churn\"] == 0) ],\n",
    "                color=\"Red\", shade = True)\n",
    "Mth = sns.kdeplot(df_copy_dummies.Monthly_Premium[(df_copy_dummies[\"Churn\"] == 1) ],\n",
    "                ax =Mth, color=\"Blue\", shade= True)\n",
    "Mth.legend([\"No Churn\",\"Churn\"],loc='upper right')\n",
    "Mth.set_ylabel('Density')\n",
    "Mth.set_xlabel('Monthly Premium')\n",
    "Mth.set_title('Monthly Premium by churn')"
   ]
  },
  {
   "cell_type": "code",
   "execution_count": 404,
   "id": "669fc1ad",
   "metadata": {},
   "outputs": [
    {
     "data": {
      "text/plain": [
       "Text(0.5, 1.0, 'Weeks_Since_Claim by churn')"
      ]
     },
     "execution_count": 404,
     "metadata": {},
     "output_type": "execute_result"
    },
    {
     "data": {
      "image/png": "[encoded data removed]",
      "text/plain": [
       "<Figure size 432x288 with 1 Axes>"
      ]
     },
     "metadata": {
      "needs_background": "light"
     },
     "output_type": "display_data"
    }
   ],
   "source": [
    "Mth = sns.kdeplot(df_copy_dummies.Weeks_Since_Claim[(df_copy_dummies[\"Churn\"] == 0) ],\n",
    "                color=\"Red\", shade = True)\n",
    "Mth = sns.kdeplot(df_copy_dummies.Weeks_Since_Claim[(df_copy_dummies[\"Churn\"] == 1) ],\n",
    "                ax =Mth, color=\"Blue\", shade= True)\n",
    "Mth.legend([\"No Churn\",\"Churn\"],loc='upper right')\n",
    "Mth.set_ylabel('Density')\n",
    "Mth.set_xlabel('Weeks_Since_Claim ')\n",
    "Mth.set_title('Weeks_Since_Claim by churn')"
   ]
  },
  {
   "cell_type": "markdown",
   "id": "067d0b9c",
   "metadata": {},
   "source": [
    " Convert all the categorical variables into dummy variables."
   ]
  },
  {
   "cell_type": "code",
   "execution_count": 405,
   "id": "75b9a142",
   "metadata": {},
   "outputs": [
    {
     "data": {
      "text/plain": [
       "Text(0.5, 1.0, 'Renew_Offer_Type by churn')"
      ]
     },
     "execution_count": 405,
     "metadata": {},
     "output_type": "execute_result"
    },
    {
     "data": {
      "image/png": "[encoded data removed]",
      "text/plain": [
       "<Figure size 432x288 with 1 Axes>"
      ]
     },
     "metadata": {
      "needs_background": "light"
     },
     "output_type": "display_data"
    }
   ],
   "source": [
    "Mth = sns.kdeplot(df_copy_dummies.Renew_Offer_Type[(df_copy_dummies[\"Churn\"] == 0) ],\n",
    "                color=\"Red\", shade = True)\n",
    "Mth = sns.kdeplot(df_copy_dummies.Renew_Offer_Type[(df_copy_dummies[\"Churn\"] == 1) ],\n",
    "                ax =Mth, color=\"Blue\", shade= True)\n",
    "Mth.legend([\"No Churn\",\"Churn\"],loc='upper right')\n",
    "Mth.set_ylabel('Density')\n",
    "Mth.set_xlabel('Renew_Offer_Type ')\n",
    "Mth.set_title('Renew_Offer_Type by churn')"
   ]
  },
  {
   "cell_type": "code",
   "execution_count": 406,
   "id": "8155961f",
   "metadata": {},
   "outputs": [],
   "source": [
    "df = pd.get_dummies(df,drop_first = True)"
   ]
  },
  {
   "cell_type": "code",
   "execution_count": 407,
   "id": "0432f43c",
   "metadata": {},
   "outputs": [
    {
     "data": {
      "text/html": [
       "<div>\n",
       "<style scoped>\n",
       "    .dataframe tbody tr th:only-of-type {\n",
       "        vertical-align: middle;\n",
       "    }\n",
       "\n",
       "    .dataframe tbody tr th {\n",
       "        vertical-align: top;\n",
       "    }\n",
       "\n",
       "    .dataframe thead th {\n",
       "        text-align: right;\n",
       "    }\n",
       "</style>\n",
       "<table border=\"1\" class=\"dataframe\">\n",
       "  <thead>\n",
       "    <tr style=\"text-align: right;\">\n",
       "      <th></th>\n",
       "      <th>Monthly_Premium</th>\n",
       "      <th>Open_Policies</th>\n",
       "      <th>Renew_Offer_Type</th>\n",
       "      <th>Vehicle_Age_In_Years</th>\n",
       "      <th>Weeks_Since_Claim</th>\n",
       "      <th>City_Denver</th>\n",
       "      <th>City_Fairfield</th>\n",
       "      <th>City_Indianapolis</th>\n",
       "      <th>City_Tampa</th>\n",
       "      <th>Work_Status_Employed</th>\n",
       "      <th>...</th>\n",
       "      <th>Coverage_Type_Primary_Plan</th>\n",
       "      <th>Accessbility_Customer_Call_Centre</th>\n",
       "      <th>Accessbility_Direct Branch Contact</th>\n",
       "      <th>Accessbility_Website</th>\n",
       "      <th>Vehicle_Type_Luxirious_Car</th>\n",
       "      <th>Vehicle_Type_Luxurious_SUV</th>\n",
       "      <th>Vehicle_Type_SUV</th>\n",
       "      <th>Vehicle_Type_Sedan_4 Door</th>\n",
       "      <th>Vehicle_Type_Sports Car</th>\n",
       "      <th>Churn_Yes</th>\n",
       "    </tr>\n",
       "  </thead>\n",
       "  <tbody>\n",
       "    <tr>\n",
       "      <th>0</th>\n",
       "      <td>138</td>\n",
       "      <td>1</td>\n",
       "      <td>1</td>\n",
       "      <td>10</td>\n",
       "      <td>138</td>\n",
       "      <td>0</td>\n",
       "      <td>0</td>\n",
       "      <td>1</td>\n",
       "      <td>0</td>\n",
       "      <td>1</td>\n",
       "      <td>...</td>\n",
       "      <td>1</td>\n",
       "      <td>0</td>\n",
       "      <td>0</td>\n",
       "      <td>0</td>\n",
       "      <td>0</td>\n",
       "      <td>0</td>\n",
       "      <td>0</td>\n",
       "      <td>0</td>\n",
       "      <td>0</td>\n",
       "      <td>0</td>\n",
       "    </tr>\n",
       "    <tr>\n",
       "      <th>1</th>\n",
       "      <td>188</td>\n",
       "      <td>8</td>\n",
       "      <td>3</td>\n",
       "      <td>2</td>\n",
       "      <td>56</td>\n",
       "      <td>0</td>\n",
       "      <td>0</td>\n",
       "      <td>0</td>\n",
       "      <td>1</td>\n",
       "      <td>0</td>\n",
       "      <td>...</td>\n",
       "      <td>0</td>\n",
       "      <td>0</td>\n",
       "      <td>0</td>\n",
       "      <td>0</td>\n",
       "      <td>0</td>\n",
       "      <td>0</td>\n",
       "      <td>0</td>\n",
       "      <td>1</td>\n",
       "      <td>0</td>\n",
       "      <td>0</td>\n",
       "    </tr>\n",
       "    <tr>\n",
       "      <th>2</th>\n",
       "      <td>216</td>\n",
       "      <td>2</td>\n",
       "      <td>1</td>\n",
       "      <td>2</td>\n",
       "      <td>77</td>\n",
       "      <td>0</td>\n",
       "      <td>1</td>\n",
       "      <td>0</td>\n",
       "      <td>0</td>\n",
       "      <td>1</td>\n",
       "      <td>...</td>\n",
       "      <td>0</td>\n",
       "      <td>0</td>\n",
       "      <td>0</td>\n",
       "      <td>0</td>\n",
       "      <td>0</td>\n",
       "      <td>0</td>\n",
       "      <td>0</td>\n",
       "      <td>0</td>\n",
       "      <td>0</td>\n",
       "      <td>0</td>\n",
       "    </tr>\n",
       "    <tr>\n",
       "      <th>3</th>\n",
       "      <td>212</td>\n",
       "      <td>7</td>\n",
       "      <td>1</td>\n",
       "      <td>2</td>\n",
       "      <td>77</td>\n",
       "      <td>0</td>\n",
       "      <td>0</td>\n",
       "      <td>0</td>\n",
       "      <td>0</td>\n",
       "      <td>0</td>\n",
       "      <td>...</td>\n",
       "      <td>1</td>\n",
       "      <td>1</td>\n",
       "      <td>0</td>\n",
       "      <td>0</td>\n",
       "      <td>0</td>\n",
       "      <td>0</td>\n",
       "      <td>1</td>\n",
       "      <td>0</td>\n",
       "      <td>0</td>\n",
       "      <td>0</td>\n",
       "    </tr>\n",
       "    <tr>\n",
       "      <th>4</th>\n",
       "      <td>146</td>\n",
       "      <td>1</td>\n",
       "      <td>1</td>\n",
       "      <td>3</td>\n",
       "      <td>52</td>\n",
       "      <td>0</td>\n",
       "      <td>0</td>\n",
       "      <td>1</td>\n",
       "      <td>0</td>\n",
       "      <td>1</td>\n",
       "      <td>...</td>\n",
       "      <td>1</td>\n",
       "      <td>0</td>\n",
       "      <td>0</td>\n",
       "      <td>0</td>\n",
       "      <td>0</td>\n",
       "      <td>0</td>\n",
       "      <td>0</td>\n",
       "      <td>1</td>\n",
       "      <td>0</td>\n",
       "      <td>0</td>\n",
       "    </tr>\n",
       "  </tbody>\n",
       "</table>\n",
       "<p>5 rows × 25 columns</p>\n",
       "</div>"
      ],
      "text/plain": [
       "   Monthly_Premium  Open_Policies  Renew_Offer_Type  Vehicle_Age_In_Years  \\\n",
       "0              138              1                 1                    10   \n",
       "1              188              8                 3                     2   \n",
       "2              216              2                 1                     2   \n",
       "3              212              7                 1                     2   \n",
       "4              146              1                 1                     3   \n",
       "\n",
       "   Weeks_Since_Claim  City_Denver  City_Fairfield  City_Indianapolis  \\\n",
       "0                138            0               0                  1   \n",
       "1                 56            0               0                  0   \n",
       "2                 77            0               1                  0   \n",
       "3                 77            0               0                  0   \n",
       "4                 52            0               0                  1   \n",
       "\n",
       "   City_Tampa  Work_Status_Employed  ...  Coverage_Type_Primary_Plan  \\\n",
       "0           0                     1  ...                           1   \n",
       "1           1                     0  ...                           0   \n",
       "2           0                     1  ...                           0   \n",
       "3           0                     0  ...                           1   \n",
       "4           0                     1  ...                           1   \n",
       "\n",
       "   Accessbility_Customer_Call_Centre  Accessbility_Direct Branch Contact  \\\n",
       "0                                  0                                   0   \n",
       "1                                  0                                   0   \n",
       "2                                  0                                   0   \n",
       "3                                  1                                   0   \n",
       "4                                  0                                   0   \n",
       "\n",
       "   Accessbility_Website  Vehicle_Type_Luxirious_Car  \\\n",
       "0                     0                           0   \n",
       "1                     0                           0   \n",
       "2                     0                           0   \n",
       "3                     0                           0   \n",
       "4                     0                           0   \n",
       "\n",
       "   Vehicle_Type_Luxurious_SUV  Vehicle_Type_SUV  Vehicle_Type_Sedan_4 Door  \\\n",
       "0                           0                 0                          0   \n",
       "1                           0                 0                          1   \n",
       "2                           0                 0                          0   \n",
       "3                           0                 1                          0   \n",
       "4                           0                 0                          1   \n",
       "\n",
       "   Vehicle_Type_Sports Car  Churn_Yes  \n",
       "0                        0          0  \n",
       "1                        0          0  \n",
       "2                        0          0  \n",
       "3                        0          0  \n",
       "4                        0          0  \n",
       "\n",
       "[5 rows x 25 columns]"
      ]
     },
     "execution_count": 407,
     "metadata": {},
     "output_type": "execute_result"
    }
   ],
   "source": [
    "df.head()"
   ]
  },
  {
   "cell_type": "code",
   "execution_count": 408,
   "id": "804358df",
   "metadata": {},
   "outputs": [
    {
     "data": {
      "text/html": [
       "<div>\n",
       "<style scoped>\n",
       "    .dataframe tbody tr th:only-of-type {\n",
       "        vertical-align: middle;\n",
       "    }\n",
       "\n",
       "    .dataframe tbody tr th {\n",
       "        vertical-align: top;\n",
       "    }\n",
       "\n",
       "    .dataframe thead th {\n",
       "        text-align: right;\n",
       "    }\n",
       "</style>\n",
       "<table border=\"1\" class=\"dataframe\">\n",
       "  <thead>\n",
       "    <tr style=\"text-align: right;\">\n",
       "      <th></th>\n",
       "      <th>Monthly_Premium</th>\n",
       "      <th>Open_Policies</th>\n",
       "      <th>Renew_Offer_Type</th>\n",
       "      <th>Vehicle_Age_In_Years</th>\n",
       "      <th>Weeks_Since_Claim</th>\n",
       "      <th>City_Denver</th>\n",
       "      <th>City_Fairfield</th>\n",
       "      <th>City_Indianapolis</th>\n",
       "      <th>City_Tampa</th>\n",
       "      <th>Work_Status_Employed</th>\n",
       "      <th>...</th>\n",
       "      <th>Coverage_Type_Primary_Plan</th>\n",
       "      <th>Accessbility_Customer_Call_Centre</th>\n",
       "      <th>Accessbility_Direct Branch Contact</th>\n",
       "      <th>Accessbility_Website</th>\n",
       "      <th>Vehicle_Type_Luxirious_Car</th>\n",
       "      <th>Vehicle_Type_Luxurious_SUV</th>\n",
       "      <th>Vehicle_Type_SUV</th>\n",
       "      <th>Vehicle_Type_Sedan_4 Door</th>\n",
       "      <th>Vehicle_Type_Sports Car</th>\n",
       "      <th>Churn_Yes</th>\n",
       "    </tr>\n",
       "  </thead>\n",
       "  <tbody>\n",
       "    <tr>\n",
       "      <th>4994</th>\n",
       "      <td>142</td>\n",
       "      <td>1</td>\n",
       "      <td>1</td>\n",
       "      <td>6</td>\n",
       "      <td>34</td>\n",
       "      <td>0</td>\n",
       "      <td>0</td>\n",
       "      <td>0</td>\n",
       "      <td>0</td>\n",
       "      <td>1</td>\n",
       "      <td>...</td>\n",
       "      <td>1</td>\n",
       "      <td>0</td>\n",
       "      <td>1</td>\n",
       "      <td>0</td>\n",
       "      <td>0</td>\n",
       "      <td>0</td>\n",
       "      <td>0</td>\n",
       "      <td>1</td>\n",
       "      <td>0</td>\n",
       "      <td>0</td>\n",
       "    </tr>\n",
       "    <tr>\n",
       "      <th>4995</th>\n",
       "      <td>144</td>\n",
       "      <td>5</td>\n",
       "      <td>2</td>\n",
       "      <td>6</td>\n",
       "      <td>43</td>\n",
       "      <td>0</td>\n",
       "      <td>0</td>\n",
       "      <td>0</td>\n",
       "      <td>1</td>\n",
       "      <td>1</td>\n",
       "      <td>...</td>\n",
       "      <td>1</td>\n",
       "      <td>0</td>\n",
       "      <td>0</td>\n",
       "      <td>0</td>\n",
       "      <td>0</td>\n",
       "      <td>0</td>\n",
       "      <td>0</td>\n",
       "      <td>1</td>\n",
       "      <td>0</td>\n",
       "      <td>0</td>\n",
       "    </tr>\n",
       "    <tr>\n",
       "      <th>4996</th>\n",
       "      <td>222</td>\n",
       "      <td>3</td>\n",
       "      <td>2</td>\n",
       "      <td>6</td>\n",
       "      <td>26</td>\n",
       "      <td>0</td>\n",
       "      <td>1</td>\n",
       "      <td>0</td>\n",
       "      <td>0</td>\n",
       "      <td>0</td>\n",
       "      <td>...</td>\n",
       "      <td>0</td>\n",
       "      <td>0</td>\n",
       "      <td>1</td>\n",
       "      <td>0</td>\n",
       "      <td>0</td>\n",
       "      <td>0</td>\n",
       "      <td>0</td>\n",
       "      <td>1</td>\n",
       "      <td>0</td>\n",
       "      <td>0</td>\n",
       "    </tr>\n",
       "    <tr>\n",
       "      <th>4997</th>\n",
       "      <td>124</td>\n",
       "      <td>1</td>\n",
       "      <td>3</td>\n",
       "      <td>6</td>\n",
       "      <td>43</td>\n",
       "      <td>0</td>\n",
       "      <td>0</td>\n",
       "      <td>0</td>\n",
       "      <td>1</td>\n",
       "      <td>1</td>\n",
       "      <td>...</td>\n",
       "      <td>1</td>\n",
       "      <td>0</td>\n",
       "      <td>1</td>\n",
       "      <td>0</td>\n",
       "      <td>0</td>\n",
       "      <td>0</td>\n",
       "      <td>0</td>\n",
       "      <td>1</td>\n",
       "      <td>0</td>\n",
       "      <td>0</td>\n",
       "    </tr>\n",
       "    <tr>\n",
       "      <th>4998</th>\n",
       "      <td>142</td>\n",
       "      <td>1</td>\n",
       "      <td>4</td>\n",
       "      <td>6</td>\n",
       "      <td>9</td>\n",
       "      <td>0</td>\n",
       "      <td>0</td>\n",
       "      <td>0</td>\n",
       "      <td>1</td>\n",
       "      <td>0</td>\n",
       "      <td>...</td>\n",
       "      <td>1</td>\n",
       "      <td>0</td>\n",
       "      <td>1</td>\n",
       "      <td>0</td>\n",
       "      <td>0</td>\n",
       "      <td>0</td>\n",
       "      <td>0</td>\n",
       "      <td>1</td>\n",
       "      <td>0</td>\n",
       "      <td>0</td>\n",
       "    </tr>\n",
       "  </tbody>\n",
       "</table>\n",
       "<p>5 rows × 25 columns</p>\n",
       "</div>"
      ],
      "text/plain": [
       "      Monthly_Premium  Open_Policies  Renew_Offer_Type  Vehicle_Age_In_Years  \\\n",
       "4994              142              1                 1                     6   \n",
       "4995              144              5                 2                     6   \n",
       "4996              222              3                 2                     6   \n",
       "4997              124              1                 3                     6   \n",
       "4998              142              1                 4                     6   \n",
       "\n",
       "      Weeks_Since_Claim  City_Denver  City_Fairfield  City_Indianapolis  \\\n",
       "4994                 34            0               0                  0   \n",
       "4995                 43            0               0                  0   \n",
       "4996                 26            0               1                  0   \n",
       "4997                 43            0               0                  0   \n",
       "4998                  9            0               0                  0   \n",
       "\n",
       "      City_Tampa  Work_Status_Employed  ...  Coverage_Type_Primary_Plan  \\\n",
       "4994           0                     1  ...                           1   \n",
       "4995           1                     1  ...                           1   \n",
       "4996           0                     0  ...                           0   \n",
       "4997           1                     1  ...                           1   \n",
       "4998           1                     0  ...                           1   \n",
       "\n",
       "      Accessbility_Customer_Call_Centre  Accessbility_Direct Branch Contact  \\\n",
       "4994                                  0                                   1   \n",
       "4995                                  0                                   0   \n",
       "4996                                  0                                   1   \n",
       "4997                                  0                                   1   \n",
       "4998                                  0                                   1   \n",
       "\n",
       "      Accessbility_Website  Vehicle_Type_Luxirious_Car  \\\n",
       "4994                     0                           0   \n",
       "4995                     0                           0   \n",
       "4996                     0                           0   \n",
       "4997                     0                           0   \n",
       "4998                     0                           0   \n",
       "\n",
       "      Vehicle_Type_Luxurious_SUV  Vehicle_Type_SUV  Vehicle_Type_Sedan_4 Door  \\\n",
       "4994                           0                 0                          1   \n",
       "4995                           0                 0                          1   \n",
       "4996                           0                 0                          1   \n",
       "4997                           0                 0                          1   \n",
       "4998                           0                 0                          1   \n",
       "\n",
       "      Vehicle_Type_Sports Car  Churn_Yes  \n",
       "4994                        0          0  \n",
       "4995                        0          0  \n",
       "4996                        0          0  \n",
       "4997                        0          0  \n",
       "4998                        0          0  \n",
       "\n",
       "[5 rows x 25 columns]"
      ]
     },
     "execution_count": 408,
     "metadata": {},
     "output_type": "execute_result"
    }
   ],
   "source": [
    "df.tail()"
   ]
  },
  {
   "cell_type": "markdown",
   "id": "bc04f831",
   "metadata": {},
   "source": [
    "Build a corelation of all predictors with 'Churn'"
   ]
  },
  {
   "cell_type": "code",
   "execution_count": 409,
   "id": "74844b77",
   "metadata": {},
   "outputs": [
    {
     "data": {
      "text/plain": [
       "0    4267\n",
       "1     732\n",
       "Name: Churn_Yes, dtype: int64"
      ]
     },
     "execution_count": 409,
     "metadata": {},
     "output_type": "execute_result"
    }
   ],
   "source": [
    "df['Churn_Yes'].value_counts()"
   ]
  },
  {
   "cell_type": "code",
   "execution_count": 410,
   "id": "83b5affc",
   "metadata": {},
   "outputs": [],
   "source": [
    "X = df.drop('Churn_Yes',axis=1)\n",
    "y = df['Churn_Yes']"
   ]
  },
  {
   "cell_type": "code",
   "execution_count": 411,
   "id": "d1a0c5af",
   "metadata": {},
   "outputs": [
    {
     "data": {
      "text/html": [
       "<div>\n",
       "<style scoped>\n",
       "    .dataframe tbody tr th:only-of-type {\n",
       "        vertical-align: middle;\n",
       "    }\n",
       "\n",
       "    .dataframe tbody tr th {\n",
       "        vertical-align: top;\n",
       "    }\n",
       "\n",
       "    .dataframe thead th {\n",
       "        text-align: right;\n",
       "    }\n",
       "</style>\n",
       "<table border=\"1\" class=\"dataframe\">\n",
       "  <thead>\n",
       "    <tr style=\"text-align: right;\">\n",
       "      <th></th>\n",
       "      <th>Monthly_Premium</th>\n",
       "      <th>Open_Policies</th>\n",
       "      <th>Renew_Offer_Type</th>\n",
       "      <th>Vehicle_Age_In_Years</th>\n",
       "      <th>Weeks_Since_Claim</th>\n",
       "      <th>City_Denver</th>\n",
       "      <th>City_Fairfield</th>\n",
       "      <th>City_Indianapolis</th>\n",
       "      <th>City_Tampa</th>\n",
       "      <th>Work_Status_Employed</th>\n",
       "      <th>...</th>\n",
       "      <th>Coverage_Type_Premium_Plan</th>\n",
       "      <th>Coverage_Type_Primary_Plan</th>\n",
       "      <th>Accessbility_Customer_Call_Centre</th>\n",
       "      <th>Accessbility_Direct Branch Contact</th>\n",
       "      <th>Accessbility_Website</th>\n",
       "      <th>Vehicle_Type_Luxirious_Car</th>\n",
       "      <th>Vehicle_Type_Luxurious_SUV</th>\n",
       "      <th>Vehicle_Type_SUV</th>\n",
       "      <th>Vehicle_Type_Sedan_4 Door</th>\n",
       "      <th>Vehicle_Type_Sports Car</th>\n",
       "    </tr>\n",
       "  </thead>\n",
       "  <tbody>\n",
       "    <tr>\n",
       "      <th>0</th>\n",
       "      <td>138</td>\n",
       "      <td>1</td>\n",
       "      <td>1</td>\n",
       "      <td>10</td>\n",
       "      <td>138</td>\n",
       "      <td>0</td>\n",
       "      <td>0</td>\n",
       "      <td>1</td>\n",
       "      <td>0</td>\n",
       "      <td>1</td>\n",
       "      <td>...</td>\n",
       "      <td>0</td>\n",
       "      <td>1</td>\n",
       "      <td>0</td>\n",
       "      <td>0</td>\n",
       "      <td>0</td>\n",
       "      <td>0</td>\n",
       "      <td>0</td>\n",
       "      <td>0</td>\n",
       "      <td>0</td>\n",
       "      <td>0</td>\n",
       "    </tr>\n",
       "    <tr>\n",
       "      <th>1</th>\n",
       "      <td>188</td>\n",
       "      <td>8</td>\n",
       "      <td>3</td>\n",
       "      <td>2</td>\n",
       "      <td>56</td>\n",
       "      <td>0</td>\n",
       "      <td>0</td>\n",
       "      <td>0</td>\n",
       "      <td>1</td>\n",
       "      <td>0</td>\n",
       "      <td>...</td>\n",
       "      <td>0</td>\n",
       "      <td>0</td>\n",
       "      <td>0</td>\n",
       "      <td>0</td>\n",
       "      <td>0</td>\n",
       "      <td>0</td>\n",
       "      <td>0</td>\n",
       "      <td>0</td>\n",
       "      <td>1</td>\n",
       "      <td>0</td>\n",
       "    </tr>\n",
       "    <tr>\n",
       "      <th>2</th>\n",
       "      <td>216</td>\n",
       "      <td>2</td>\n",
       "      <td>1</td>\n",
       "      <td>2</td>\n",
       "      <td>77</td>\n",
       "      <td>0</td>\n",
       "      <td>1</td>\n",
       "      <td>0</td>\n",
       "      <td>0</td>\n",
       "      <td>1</td>\n",
       "      <td>...</td>\n",
       "      <td>1</td>\n",
       "      <td>0</td>\n",
       "      <td>0</td>\n",
       "      <td>0</td>\n",
       "      <td>0</td>\n",
       "      <td>0</td>\n",
       "      <td>0</td>\n",
       "      <td>0</td>\n",
       "      <td>0</td>\n",
       "      <td>0</td>\n",
       "    </tr>\n",
       "    <tr>\n",
       "      <th>3</th>\n",
       "      <td>212</td>\n",
       "      <td>7</td>\n",
       "      <td>1</td>\n",
       "      <td>2</td>\n",
       "      <td>77</td>\n",
       "      <td>0</td>\n",
       "      <td>0</td>\n",
       "      <td>0</td>\n",
       "      <td>0</td>\n",
       "      <td>0</td>\n",
       "      <td>...</td>\n",
       "      <td>0</td>\n",
       "      <td>1</td>\n",
       "      <td>1</td>\n",
       "      <td>0</td>\n",
       "      <td>0</td>\n",
       "      <td>0</td>\n",
       "      <td>0</td>\n",
       "      <td>1</td>\n",
       "      <td>0</td>\n",
       "      <td>0</td>\n",
       "    </tr>\n",
       "    <tr>\n",
       "      <th>4</th>\n",
       "      <td>146</td>\n",
       "      <td>1</td>\n",
       "      <td>1</td>\n",
       "      <td>3</td>\n",
       "      <td>52</td>\n",
       "      <td>0</td>\n",
       "      <td>0</td>\n",
       "      <td>1</td>\n",
       "      <td>0</td>\n",
       "      <td>1</td>\n",
       "      <td>...</td>\n",
       "      <td>0</td>\n",
       "      <td>1</td>\n",
       "      <td>0</td>\n",
       "      <td>0</td>\n",
       "      <td>0</td>\n",
       "      <td>0</td>\n",
       "      <td>0</td>\n",
       "      <td>0</td>\n",
       "      <td>1</td>\n",
       "      <td>0</td>\n",
       "    </tr>\n",
       "  </tbody>\n",
       "</table>\n",
       "<p>5 rows × 24 columns</p>\n",
       "</div>"
      ],
      "text/plain": [
       "   Monthly_Premium  Open_Policies  Renew_Offer_Type  Vehicle_Age_In_Years  \\\n",
       "0              138              1                 1                    10   \n",
       "1              188              8                 3                     2   \n",
       "2              216              2                 1                     2   \n",
       "3              212              7                 1                     2   \n",
       "4              146              1                 1                     3   \n",
       "\n",
       "   Weeks_Since_Claim  City_Denver  City_Fairfield  City_Indianapolis  \\\n",
       "0                138            0               0                  1   \n",
       "1                 56            0               0                  0   \n",
       "2                 77            0               1                  0   \n",
       "3                 77            0               0                  0   \n",
       "4                 52            0               0                  1   \n",
       "\n",
       "   City_Tampa  Work_Status_Employed  ...  Coverage_Type_Premium_Plan  \\\n",
       "0           0                     1  ...                           0   \n",
       "1           1                     0  ...                           0   \n",
       "2           0                     1  ...                           1   \n",
       "3           0                     0  ...                           0   \n",
       "4           0                     1  ...                           0   \n",
       "\n",
       "   Coverage_Type_Primary_Plan  Accessbility_Customer_Call_Centre  \\\n",
       "0                           1                                  0   \n",
       "1                           0                                  0   \n",
       "2                           0                                  0   \n",
       "3                           1                                  1   \n",
       "4                           1                                  0   \n",
       "\n",
       "   Accessbility_Direct Branch Contact  Accessbility_Website  \\\n",
       "0                                   0                     0   \n",
       "1                                   0                     0   \n",
       "2                                   0                     0   \n",
       "3                                   0                     0   \n",
       "4                                   0                     0   \n",
       "\n",
       "   Vehicle_Type_Luxirious_Car  Vehicle_Type_Luxurious_SUV  Vehicle_Type_SUV  \\\n",
       "0                           0                           0                 0   \n",
       "1                           0                           0                 0   \n",
       "2                           0                           0                 0   \n",
       "3                           0                           0                 1   \n",
       "4                           0                           0                 0   \n",
       "\n",
       "   Vehicle_Type_Sedan_4 Door  Vehicle_Type_Sports Car  \n",
       "0                          0                        0  \n",
       "1                          1                        0  \n",
       "2                          0                        0  \n",
       "3                          0                        0  \n",
       "4                          1                        0  \n",
       "\n",
       "[5 rows x 24 columns]"
      ]
     },
     "execution_count": 411,
     "metadata": {},
     "output_type": "execute_result"
    }
   ],
   "source": [
    "X.head()"
   ]
  },
  {
   "cell_type": "code",
   "execution_count": 412,
   "id": "50c61755",
   "metadata": {},
   "outputs": [
    {
     "data": {
      "text/plain": [
       "0    0\n",
       "1    0\n",
       "2    0\n",
       "3    0\n",
       "4    0\n",
       "Name: Churn_Yes, dtype: uint8"
      ]
     },
     "execution_count": 412,
     "metadata": {},
     "output_type": "execute_result"
    }
   ],
   "source": [
    "y.head()"
   ]
  },
  {
   "cell_type": "code",
   "execution_count": 413,
   "id": "7a0bd2f6",
   "metadata": {},
   "outputs": [
    {
     "data": {
      "text/plain": [
       "4994    0\n",
       "4995    0\n",
       "4996    0\n",
       "4997    0\n",
       "4998    0\n",
       "Name: Churn_Yes, dtype: uint8"
      ]
     },
     "execution_count": 413,
     "metadata": {},
     "output_type": "execute_result"
    }
   ],
   "source": [
    "y.tail()"
   ]
  },
  {
   "cell_type": "markdown",
   "id": "560ac932",
   "metadata": {},
   "source": [
    "Handling Imbalanced Data with SMOTE"
   ]
  },
  {
   "cell_type": "code",
   "execution_count": 414,
   "id": "0e13888d",
   "metadata": {},
   "outputs": [],
   "source": [
    "from imblearn.over_sampling import SMOTE"
   ]
  },
  {
   "cell_type": "code",
   "execution_count": 415,
   "id": "1fc1447a",
   "metadata": {},
   "outputs": [],
   "source": [
    "X_res, y_res = SMOTE().fit_resample(X,y)"
   ]
  },
  {
   "cell_type": "code",
   "execution_count": 416,
   "id": "4914135b",
   "metadata": {},
   "outputs": [
    {
     "data": {
      "text/html": [
       "<div>\n",
       "<style scoped>\n",
       "    .dataframe tbody tr th:only-of-type {\n",
       "        vertical-align: middle;\n",
       "    }\n",
       "\n",
       "    .dataframe tbody tr th {\n",
       "        vertical-align: top;\n",
       "    }\n",
       "\n",
       "    .dataframe thead th {\n",
       "        text-align: right;\n",
       "    }\n",
       "</style>\n",
       "<table border=\"1\" class=\"dataframe\">\n",
       "  <thead>\n",
       "    <tr style=\"text-align: right;\">\n",
       "      <th></th>\n",
       "      <th>Monthly_Premium</th>\n",
       "      <th>Open_Policies</th>\n",
       "      <th>Renew_Offer_Type</th>\n",
       "      <th>Vehicle_Age_In_Years</th>\n",
       "      <th>Weeks_Since_Claim</th>\n",
       "      <th>City_Denver</th>\n",
       "      <th>City_Fairfield</th>\n",
       "      <th>City_Indianapolis</th>\n",
       "      <th>City_Tampa</th>\n",
       "      <th>Work_Status_Employed</th>\n",
       "      <th>...</th>\n",
       "      <th>Coverage_Type_Premium_Plan</th>\n",
       "      <th>Coverage_Type_Primary_Plan</th>\n",
       "      <th>Accessbility_Customer_Call_Centre</th>\n",
       "      <th>Accessbility_Direct Branch Contact</th>\n",
       "      <th>Accessbility_Website</th>\n",
       "      <th>Vehicle_Type_Luxirious_Car</th>\n",
       "      <th>Vehicle_Type_Luxurious_SUV</th>\n",
       "      <th>Vehicle_Type_SUV</th>\n",
       "      <th>Vehicle_Type_Sedan_4 Door</th>\n",
       "      <th>Vehicle_Type_Sports Car</th>\n",
       "    </tr>\n",
       "  </thead>\n",
       "  <tbody>\n",
       "    <tr>\n",
       "      <th>0</th>\n",
       "      <td>138</td>\n",
       "      <td>1</td>\n",
       "      <td>1</td>\n",
       "      <td>10</td>\n",
       "      <td>138</td>\n",
       "      <td>0</td>\n",
       "      <td>0</td>\n",
       "      <td>1</td>\n",
       "      <td>0</td>\n",
       "      <td>1</td>\n",
       "      <td>...</td>\n",
       "      <td>0</td>\n",
       "      <td>1</td>\n",
       "      <td>0</td>\n",
       "      <td>0</td>\n",
       "      <td>0</td>\n",
       "      <td>0</td>\n",
       "      <td>0</td>\n",
       "      <td>0</td>\n",
       "      <td>0</td>\n",
       "      <td>0</td>\n",
       "    </tr>\n",
       "    <tr>\n",
       "      <th>1</th>\n",
       "      <td>188</td>\n",
       "      <td>8</td>\n",
       "      <td>3</td>\n",
       "      <td>2</td>\n",
       "      <td>56</td>\n",
       "      <td>0</td>\n",
       "      <td>0</td>\n",
       "      <td>0</td>\n",
       "      <td>1</td>\n",
       "      <td>0</td>\n",
       "      <td>...</td>\n",
       "      <td>0</td>\n",
       "      <td>0</td>\n",
       "      <td>0</td>\n",
       "      <td>0</td>\n",
       "      <td>0</td>\n",
       "      <td>0</td>\n",
       "      <td>0</td>\n",
       "      <td>0</td>\n",
       "      <td>1</td>\n",
       "      <td>0</td>\n",
       "    </tr>\n",
       "    <tr>\n",
       "      <th>2</th>\n",
       "      <td>216</td>\n",
       "      <td>2</td>\n",
       "      <td>1</td>\n",
       "      <td>2</td>\n",
       "      <td>77</td>\n",
       "      <td>0</td>\n",
       "      <td>1</td>\n",
       "      <td>0</td>\n",
       "      <td>0</td>\n",
       "      <td>1</td>\n",
       "      <td>...</td>\n",
       "      <td>1</td>\n",
       "      <td>0</td>\n",
       "      <td>0</td>\n",
       "      <td>0</td>\n",
       "      <td>0</td>\n",
       "      <td>0</td>\n",
       "      <td>0</td>\n",
       "      <td>0</td>\n",
       "      <td>0</td>\n",
       "      <td>0</td>\n",
       "    </tr>\n",
       "    <tr>\n",
       "      <th>3</th>\n",
       "      <td>212</td>\n",
       "      <td>7</td>\n",
       "      <td>1</td>\n",
       "      <td>2</td>\n",
       "      <td>77</td>\n",
       "      <td>0</td>\n",
       "      <td>0</td>\n",
       "      <td>0</td>\n",
       "      <td>0</td>\n",
       "      <td>0</td>\n",
       "      <td>...</td>\n",
       "      <td>0</td>\n",
       "      <td>1</td>\n",
       "      <td>1</td>\n",
       "      <td>0</td>\n",
       "      <td>0</td>\n",
       "      <td>0</td>\n",
       "      <td>0</td>\n",
       "      <td>1</td>\n",
       "      <td>0</td>\n",
       "      <td>0</td>\n",
       "    </tr>\n",
       "    <tr>\n",
       "      <th>4</th>\n",
       "      <td>146</td>\n",
       "      <td>1</td>\n",
       "      <td>1</td>\n",
       "      <td>3</td>\n",
       "      <td>52</td>\n",
       "      <td>0</td>\n",
       "      <td>0</td>\n",
       "      <td>1</td>\n",
       "      <td>0</td>\n",
       "      <td>1</td>\n",
       "      <td>...</td>\n",
       "      <td>0</td>\n",
       "      <td>1</td>\n",
       "      <td>0</td>\n",
       "      <td>0</td>\n",
       "      <td>0</td>\n",
       "      <td>0</td>\n",
       "      <td>0</td>\n",
       "      <td>0</td>\n",
       "      <td>1</td>\n",
       "      <td>0</td>\n",
       "    </tr>\n",
       "    <tr>\n",
       "      <th>...</th>\n",
       "      <td>...</td>\n",
       "      <td>...</td>\n",
       "      <td>...</td>\n",
       "      <td>...</td>\n",
       "      <td>...</td>\n",
       "      <td>...</td>\n",
       "      <td>...</td>\n",
       "      <td>...</td>\n",
       "      <td>...</td>\n",
       "      <td>...</td>\n",
       "      <td>...</td>\n",
       "      <td>...</td>\n",
       "      <td>...</td>\n",
       "      <td>...</td>\n",
       "      <td>...</td>\n",
       "      <td>...</td>\n",
       "      <td>...</td>\n",
       "      <td>...</td>\n",
       "      <td>...</td>\n",
       "      <td>...</td>\n",
       "      <td>...</td>\n",
       "    </tr>\n",
       "    <tr>\n",
       "      <th>8529</th>\n",
       "      <td>122</td>\n",
       "      <td>2</td>\n",
       "      <td>2</td>\n",
       "      <td>3</td>\n",
       "      <td>26</td>\n",
       "      <td>0</td>\n",
       "      <td>0</td>\n",
       "      <td>0</td>\n",
       "      <td>0</td>\n",
       "      <td>1</td>\n",
       "      <td>...</td>\n",
       "      <td>0</td>\n",
       "      <td>1</td>\n",
       "      <td>0</td>\n",
       "      <td>0</td>\n",
       "      <td>0</td>\n",
       "      <td>0</td>\n",
       "      <td>0</td>\n",
       "      <td>0</td>\n",
       "      <td>1</td>\n",
       "      <td>0</td>\n",
       "    </tr>\n",
       "    <tr>\n",
       "      <th>8530</th>\n",
       "      <td>250</td>\n",
       "      <td>1</td>\n",
       "      <td>2</td>\n",
       "      <td>9</td>\n",
       "      <td>43</td>\n",
       "      <td>1</td>\n",
       "      <td>0</td>\n",
       "      <td>0</td>\n",
       "      <td>0</td>\n",
       "      <td>1</td>\n",
       "      <td>...</td>\n",
       "      <td>0</td>\n",
       "      <td>0</td>\n",
       "      <td>0</td>\n",
       "      <td>1</td>\n",
       "      <td>0</td>\n",
       "      <td>0</td>\n",
       "      <td>0</td>\n",
       "      <td>1</td>\n",
       "      <td>0</td>\n",
       "      <td>0</td>\n",
       "    </tr>\n",
       "    <tr>\n",
       "      <th>8531</th>\n",
       "      <td>206</td>\n",
       "      <td>1</td>\n",
       "      <td>1</td>\n",
       "      <td>4</td>\n",
       "      <td>34</td>\n",
       "      <td>0</td>\n",
       "      <td>0</td>\n",
       "      <td>0</td>\n",
       "      <td>0</td>\n",
       "      <td>0</td>\n",
       "      <td>...</td>\n",
       "      <td>0</td>\n",
       "      <td>1</td>\n",
       "      <td>0</td>\n",
       "      <td>1</td>\n",
       "      <td>0</td>\n",
       "      <td>0</td>\n",
       "      <td>0</td>\n",
       "      <td>0</td>\n",
       "      <td>0</td>\n",
       "      <td>1</td>\n",
       "    </tr>\n",
       "    <tr>\n",
       "      <th>8532</th>\n",
       "      <td>246</td>\n",
       "      <td>1</td>\n",
       "      <td>1</td>\n",
       "      <td>4</td>\n",
       "      <td>4</td>\n",
       "      <td>0</td>\n",
       "      <td>0</td>\n",
       "      <td>0</td>\n",
       "      <td>0</td>\n",
       "      <td>0</td>\n",
       "      <td>...</td>\n",
       "      <td>0</td>\n",
       "      <td>0</td>\n",
       "      <td>0</td>\n",
       "      <td>0</td>\n",
       "      <td>0</td>\n",
       "      <td>0</td>\n",
       "      <td>0</td>\n",
       "      <td>1</td>\n",
       "      <td>0</td>\n",
       "      <td>0</td>\n",
       "    </tr>\n",
       "    <tr>\n",
       "      <th>8533</th>\n",
       "      <td>146</td>\n",
       "      <td>3</td>\n",
       "      <td>2</td>\n",
       "      <td>2</td>\n",
       "      <td>95</td>\n",
       "      <td>0</td>\n",
       "      <td>0</td>\n",
       "      <td>0</td>\n",
       "      <td>0</td>\n",
       "      <td>0</td>\n",
       "      <td>...</td>\n",
       "      <td>0</td>\n",
       "      <td>1</td>\n",
       "      <td>0</td>\n",
       "      <td>0</td>\n",
       "      <td>0</td>\n",
       "      <td>0</td>\n",
       "      <td>0</td>\n",
       "      <td>0</td>\n",
       "      <td>1</td>\n",
       "      <td>0</td>\n",
       "    </tr>\n",
       "  </tbody>\n",
       "</table>\n",
       "<p>8534 rows × 24 columns</p>\n",
       "</div>"
      ],
      "text/plain": [
       "      Monthly_Premium  Open_Policies  Renew_Offer_Type  Vehicle_Age_In_Years  \\\n",
       "0                 138              1                 1                    10   \n",
       "1                 188              8                 3                     2   \n",
       "2                 216              2                 1                     2   \n",
       "3                 212              7                 1                     2   \n",
       "4                 146              1                 1                     3   \n",
       "...               ...            ...               ...                   ...   \n",
       "8529              122              2                 2                     3   \n",
       "8530              250              1                 2                     9   \n",
       "8531              206              1                 1                     4   \n",
       "8532              246              1                 1                     4   \n",
       "8533              146              3                 2                     2   \n",
       "\n",
       "      Weeks_Since_Claim  City_Denver  City_Fairfield  City_Indianapolis  \\\n",
       "0                   138            0               0                  1   \n",
       "1                    56            0               0                  0   \n",
       "2                    77            0               1                  0   \n",
       "3                    77            0               0                  0   \n",
       "4                    52            0               0                  1   \n",
       "...                 ...          ...             ...                ...   \n",
       "8529                 26            0               0                  0   \n",
       "8530                 43            1               0                  0   \n",
       "8531                 34            0               0                  0   \n",
       "8532                  4            0               0                  0   \n",
       "8533                 95            0               0                  0   \n",
       "\n",
       "      City_Tampa  Work_Status_Employed  ...  Coverage_Type_Premium_Plan  \\\n",
       "0              0                     1  ...                           0   \n",
       "1              1                     0  ...                           0   \n",
       "2              0                     1  ...                           1   \n",
       "3              0                     0  ...                           0   \n",
       "4              0                     1  ...                           0   \n",
       "...          ...                   ...  ...                         ...   \n",
       "8529           0                     1  ...                           0   \n",
       "8530           0                     1  ...                           0   \n",
       "8531           0                     0  ...                           0   \n",
       "8532           0                     0  ...                           0   \n",
       "8533           0                     0  ...                           0   \n",
       "\n",
       "      Coverage_Type_Primary_Plan  Accessbility_Customer_Call_Centre  \\\n",
       "0                              1                                  0   \n",
       "1                              0                                  0   \n",
       "2                              0                                  0   \n",
       "3                              1                                  1   \n",
       "4                              1                                  0   \n",
       "...                          ...                                ...   \n",
       "8529                           1                                  0   \n",
       "8530                           0                                  0   \n",
       "8531                           1                                  0   \n",
       "8532                           0                                  0   \n",
       "8533                           1                                  0   \n",
       "\n",
       "      Accessbility_Direct Branch Contact  Accessbility_Website  \\\n",
       "0                                      0                     0   \n",
       "1                                      0                     0   \n",
       "2                                      0                     0   \n",
       "3                                      0                     0   \n",
       "4                                      0                     0   \n",
       "...                                  ...                   ...   \n",
       "8529                                   0                     0   \n",
       "8530                                   1                     0   \n",
       "8531                                   1                     0   \n",
       "8532                                   0                     0   \n",
       "8533                                   0                     0   \n",
       "\n",
       "      Vehicle_Type_Luxirious_Car  Vehicle_Type_Luxurious_SUV  \\\n",
       "0                              0                           0   \n",
       "1                              0                           0   \n",
       "2                              0                           0   \n",
       "3                              0                           0   \n",
       "4                              0                           0   \n",
       "...                          ...                         ...   \n",
       "8529                           0                           0   \n",
       "8530                           0                           0   \n",
       "8531                           0                           0   \n",
       "8532                           0                           0   \n",
       "8533                           0                           0   \n",
       "\n",
       "      Vehicle_Type_SUV  Vehicle_Type_Sedan_4 Door  Vehicle_Type_Sports Car  \n",
       "0                    0                          0                        0  \n",
       "1                    0                          1                        0  \n",
       "2                    0                          0                        0  \n",
       "3                    1                          0                        0  \n",
       "4                    0                          1                        0  \n",
       "...                ...                        ...                      ...  \n",
       "8529                 0                          1                        0  \n",
       "8530                 1                          0                        0  \n",
       "8531                 0                          0                        1  \n",
       "8532                 1                          0                        0  \n",
       "8533                 0                          1                        0  \n",
       "\n",
       "[8534 rows x 24 columns]"
      ]
     },
     "execution_count": 416,
     "metadata": {},
     "output_type": "execute_result"
    }
   ],
   "source": [
    "X_res"
   ]
  },
  {
   "cell_type": "code",
   "execution_count": 417,
   "id": "eaa43426",
   "metadata": {},
   "outputs": [
    {
     "data": {
      "text/plain": [
       "0    4267\n",
       "1    4267\n",
       "Name: Churn_Yes, dtype: int64"
      ]
     },
     "execution_count": 417,
     "metadata": {},
     "output_type": "execute_result"
    }
   ],
   "source": [
    "y_res.value_counts()"
   ]
  },
  {
   "cell_type": "code",
   "execution_count": 418,
   "id": "d3550e5f",
   "metadata": {},
   "outputs": [
    {
     "data": {
      "text/plain": [
       "<AxesSubplot:xlabel='Churn_Yes', ylabel='count'>"
      ]
     },
     "execution_count": 418,
     "metadata": {},
     "output_type": "execute_result"
    },
    {
     "data": {
      "image/png": "[encoded data removed]",
      "text/plain": [
       "<Figure size 432x288 with 1 Axes>"
      ]
     },
     "metadata": {
      "needs_background": "light"
     },
     "output_type": "display_data"
    }
   ],
   "source": [
    "sns.countplot(y_res)"
   ]
  },
  {
   "cell_type": "markdown",
   "id": "7c0121cf",
   "metadata": {},
   "source": [
    "Splitting The Dataset into Training Set and Test Set"
   ]
  },
  {
   "cell_type": "code",
   "execution_count": 419,
   "id": "367296c2",
   "metadata": {},
   "outputs": [],
   "source": [
    "from sklearn.model_selection import train_test_split"
   ]
  },
  {
   "cell_type": "code",
   "execution_count": 420,
   "id": "1270b7c8",
   "metadata": {},
   "outputs": [],
   "source": [
    "X_train, X_test, y_train, y_test = train_test_split(X_res, y_res, test_size=0.3, random_state=47)"
   ]
  },
  {
   "cell_type": "markdown",
   "id": "5178929b",
   "metadata": {},
   "source": [
    "Feature Scaling"
   ]
  },
  {
   "cell_type": "code",
   "execution_count": 421,
   "id": "5cf6b43a",
   "metadata": {},
   "outputs": [],
   "source": [
    "from sklearn.preprocessing import StandardScaler"
   ]
  },
  {
   "cell_type": "code",
   "execution_count": 422,
   "id": "25547a26",
   "metadata": {},
   "outputs": [
    {
     "data": {
      "text/plain": [
       "array([[-0.86170394,  0.05344429,  1.41706499, ..., -0.48567308,\n",
       "         1.09803773, -0.22135706],\n",
       "       [-0.19661492,  0.05344429,  0.28428539, ..., -0.48567308,\n",
       "         1.09803773, -0.22135706],\n",
       "       [ 5.04096111, -0.78331253, -0.84849421, ..., -0.48567308,\n",
       "        -0.91071552, -0.22135706],\n",
       "       ...,\n",
       "       [-0.50144739,  0.47182269, -0.84849421, ..., -0.48567308,\n",
       "         1.09803773, -0.22135706],\n",
       "       [-0.77856782, -0.78331253,  1.41706499, ..., -0.48567308,\n",
       "         1.09803773, -0.22135706],\n",
       "       [ 0.30220184, -0.36493412, -0.84849421, ...,  2.05899822,\n",
       "        -0.91071552, -0.22135706]])"
      ]
     },
     "execution_count": 422,
     "metadata": {},
     "output_type": "execute_result"
    }
   ],
   "source": [
    "sc = StandardScaler()\n",
    "X_train = sc.fit_transform(X_train)\n",
    "X_test = sc.transform(X_test)\n",
    "X_train"
   ]
  },
  {
   "cell_type": "markdown",
   "id": "987842ce",
   "metadata": {},
   "source": [
    "Model training and Evaluation"
   ]
  },
  {
   "cell_type": "code",
   "execution_count": 423,
   "id": "c771ce57",
   "metadata": {},
   "outputs": [],
   "source": [
    "from sklearn.linear_model import LogisticRegression\n",
    "from sklearn.metrics import accuracy_score\n",
    "from sklearn.metrics import precision_score, recall_score, f1_score, confusion_matrix"
   ]
  },
  {
   "cell_type": "code",
   "execution_count": 424,
   "id": "719f3701",
   "metadata": {},
   "outputs": [],
   "source": [
    "def evaluate_algorithms(X_train, X_test, y_train, y_test,model_predictions,model):\n",
    "    print(f'The results from the {model}')\n",
    "    print('---------------------')\n",
    "    print('accuracy:',accuracy_score(y_test,model_predictions))\n",
    "    print('f1:',f1_score(y_test,model_predictions))\n",
    "    print('recall:',recall_score(y_test, model_predictions))\n",
    "    print('precision:',precision_score(y_test, model_predictions))\n",
    "    sns.heatmap(confusion_matrix(model_predictions, y_test),annot=True, annot_kws={\"fontsize\":20}, fmt='d', cbar=False,cmap='icefire')\n",
    "    plt.title('Confusion Matrix', color='navy', fontsize=15)\n",
    "    plt.xlabel('Predicted Values')\n",
    "    plt.ylabel('Actual Values');"
   ]
  },
  {
   "cell_type": "markdown",
   "id": "583d7742",
   "metadata": {},
   "source": [
    "Logistic Regression"
   ]
  },
  {
   "cell_type": "code",
   "execution_count": 425,
   "id": "90ce9fca",
   "metadata": {},
   "outputs": [
    {
     "name": "stdout",
     "output_type": "stream",
     "text": [
      "The results from the LogisticRegression()\n",
      "---------------------\n",
      "accuracy: 0.7715736040609137\n",
      "f1: 0.7695943284757779\n",
      "recall: 0.7822257806244995\n",
      "precision: 0.7573643410852713\n"
     ]
    },
    {
     "data": {
      "image/png": "[encoded data removed]",
      "text/plain": [
       "<Figure size 432x288 with 1 Axes>"
      ]
     },
     "metadata": {
      "needs_background": "light"
     },
     "output_type": "display_data"
    }
   ],
   "source": [
    "lr = LogisticRegression()\n",
    "lr.fit(X_train, y_train)\n",
    "LR_pred = lr.predict(X_test)\n",
    "evaluate_algorithms(X_train, X_test, y_train, y_test,LR_pred,model=lr)"
   ]
  },
  {
   "cell_type": "markdown",
   "id": "9d33b50e",
   "metadata": {},
   "source": [
    "SVC"
   ]
  },
  {
   "cell_type": "code",
   "execution_count": 426,
   "id": "6387408b",
   "metadata": {},
   "outputs": [],
   "source": [
    "from sklearn import svm"
   ]
  },
  {
   "cell_type": "code",
   "execution_count": 427,
   "id": "ed7e7cd8",
   "metadata": {},
   "outputs": [
    {
     "name": "stdout",
     "output_type": "stream",
     "text": [
      "The results from the SVC()\n",
      "---------------------\n",
      "accuracy: 0.841858648965248\n",
      "f1: 0.8398576512455515\n",
      "recall: 0.8502802241793435\n",
      "precision: 0.8296875\n"
     ]
    },
    {
     "data": {
      "image/png": "[encoded data removed]",
      "text/plain": [
       "<Figure size 432x288 with 1 Axes>"
      ]
     },
     "metadata": {
      "needs_background": "light"
     },
     "output_type": "display_data"
    }
   ],
   "source": [
    "svm = svm.SVC()\n",
    "svm.fit(X_train, y_train)\n",
    "svm_pred = svm.predict(X_test)\n",
    "evaluate_algorithms(X_train, X_test, y_train, y_test,svm_pred,model=svm)"
   ]
  },
  {
   "cell_type": "markdown",
   "id": "69c4899a",
   "metadata": {},
   "source": [
    "KNeighbors Classifier"
   ]
  },
  {
   "cell_type": "code",
   "execution_count": 428,
   "id": "0f4114dc",
   "metadata": {},
   "outputs": [],
   "source": [
    "from sklearn.neighbors import KNeighborsClassifier"
   ]
  },
  {
   "cell_type": "code",
   "execution_count": 429,
   "id": "2bf40f18",
   "metadata": {},
   "outputs": [
    {
     "name": "stdout",
     "output_type": "stream",
     "text": [
      "The results from the KNeighborsClassifier()\n",
      "---------------------\n",
      "accuracy: 0.8512299882858259\n",
      "f1: 0.858836606150426\n",
      "recall: 0.9279423538831065\n",
      "precision: 0.7993103448275862\n"
     ]
    },
    {
     "data": {
      "image/png": "[encoded data removed]",
      "text/plain": [
       "<Figure size 432x288 with 1 Axes>"
      ]
     },
     "metadata": {
      "needs_background": "light"
     },
     "output_type": "display_data"
    }
   ],
   "source": [
    "knn = KNeighborsClassifier()\n",
    "knn.fit(X_train, y_train)\n",
    "knn_pred = knn.predict(X_test)\n",
    "evaluate_algorithms(X_train, X_test, y_train, y_test,knn_pred,model=knn)"
   ]
  },
  {
   "cell_type": "markdown",
   "id": "9d5ed212",
   "metadata": {},
   "source": [
    "Desicion Tree Classifier"
   ]
  },
  {
   "cell_type": "code",
   "execution_count": 430,
   "id": "016b83c8",
   "metadata": {},
   "outputs": [],
   "source": [
    "from sklearn.tree import DecisionTreeClassifier"
   ]
  },
  {
   "cell_type": "code",
   "execution_count": 431,
   "id": "2b0afce9",
   "metadata": {},
   "outputs": [
    {
     "name": "stdout",
     "output_type": "stream",
     "text": [
      "The results from the DecisionTreeClassifier()\n",
      "---------------------\n",
      "accuracy: 0.8887153455681375\n",
      "f1: 0.8903424393997691\n",
      "recall: 0.9263410728582866\n",
      "precision: 0.857037037037037\n"
     ]
    },
    {
     "data": {
      "image/png": "[encoded data removed]",
      "text/plain": [
       "<Figure size 432x288 with 1 Axes>"
      ]
     },
     "metadata": {
      "needs_background": "light"
     },
     "output_type": "display_data"
    }
   ],
   "source": [
    "dt = DecisionTreeClassifier()\n",
    "dt.fit(X_train, y_train)\n",
    "dt_pred = dt.predict(X_test)\n",
    "evaluate_algorithms(X_train, X_test, y_train, y_test,dt_pred,model=dt)"
   ]
  },
  {
   "cell_type": "markdown",
   "id": "c0bbc1a8",
   "metadata": {},
   "source": [
    "Random Forest Classifier"
   ]
  },
  {
   "cell_type": "code",
   "execution_count": 432,
   "id": "61ce6f51",
   "metadata": {},
   "outputs": [],
   "source": [
    "from sklearn.ensemble import RandomForestClassifier"
   ]
  },
  {
   "cell_type": "code",
   "execution_count": 433,
   "id": "415be59b",
   "metadata": {},
   "outputs": [
    {
     "name": "stdout",
     "output_type": "stream",
     "text": [
      "The results from the RandomForestClassifier()\n",
      "---------------------\n",
      "accuracy: 0.9441624365482234\n",
      "f1: 0.9424083769633508\n",
      "recall: 0.9367493995196157\n",
      "precision: 0.9481361426256077\n"
     ]
    },
    {
     "data": {
      "image/png": "[encoded data removed]",
      "text/plain": [
       "<Figure size 432x288 with 1 Axes>"
      ]
     },
     "metadata": {
      "needs_background": "light"
     },
     "output_type": "display_data"
    }
   ],
   "source": [
    "rf = RandomForestClassifier()\n",
    "rf.fit(X_train, y_train)\n",
    "rf_pred = rf.predict(X_test)\n",
    "evaluate_algorithms(X_train, X_test, y_train, y_test,rf_pred,model=rf)"
   ]
  },
  {
   "cell_type": "markdown",
   "id": "33615d64",
   "metadata": {},
   "source": [
    "Gradient Boosting Classifier"
   ]
  },
  {
   "cell_type": "code",
   "execution_count": 434,
   "id": "74f8105b",
   "metadata": {},
   "outputs": [],
   "source": [
    "from sklearn.ensemble import GradientBoostingClassifier"
   ]
  },
  {
   "cell_type": "code",
   "execution_count": 435,
   "id": "b875d013",
   "metadata": {},
   "outputs": [
    {
     "name": "stdout",
     "output_type": "stream",
     "text": [
      "The results from the GradientBoostingClassifier()\n",
      "---------------------\n",
      "accuracy: 0.8379539242483405\n",
      "f1: 0.8405685747214753\n",
      "recall: 0.8759007205764612\n",
      "precision: 0.8079763663220089\n"
     ]
    },
    {
     "data": {
      "image/png": "[encoded data removed]",
      "text/plain": [
       "<Figure size 432x288 with 1 Axes>"
      ]
     },
     "metadata": {
      "needs_background": "light"
     },
     "output_type": "display_data"
    }
   ],
   "source": [
    "gbc = GradientBoostingClassifier()\n",
    "gbc.fit(X_train, y_train)\n",
    "gbc_pred = gbc.predict(X_test)\n",
    "evaluate_algorithms(X_train, X_test, y_train, y_test,gbc_pred,model=gbc)"
   ]
  },
  {
   "cell_type": "markdown",
   "id": "829b5179",
   "metadata": {},
   "source": [
    "XGBoost"
   ]
  },
  {
   "cell_type": "code",
   "execution_count": 436,
   "id": "c0da4c7b",
   "metadata": {},
   "outputs": [],
   "source": [
    "import xgboost as xgb"
   ]
  },
  {
   "cell_type": "code",
   "execution_count": 437,
   "id": "2f3a1d5c",
   "metadata": {},
   "outputs": [
    {
     "name": "stdout",
     "output_type": "stream",
     "text": [
      "The results from the XGBClassifier(base_score=None, booster=None, callbacks=None,\n",
      "              colsample_bylevel=None, colsample_bynode=None,\n",
      "              colsample_bytree=None, early_stopping_rounds=None,\n",
      "              enable_categorical=False, eval_metric=None, feature_types=None,\n",
      "              gamma=None, gpu_id=None, grow_policy=None, importance_type=None,\n",
      "              interaction_constraints=None, learning_rate=None, max_bin=None,\n",
      "              max_cat_threshold=None, max_cat_to_onehot=None,\n",
      "              max_delta_step=None, max_depth=None, max_leaves=None,\n",
      "              min_child_weight=None, missing=nan, monotone_constraints=None,\n",
      "              n_estimators=100, n_jobs=None, num_parallel_tree=None,\n",
      "              predictor=None, random_state=42, ...)\n",
      "---------------------\n",
      "accuracy: 0.957048028114018\n",
      "f1: 0.9568627450980393\n",
      "recall: 0.9767814251401121\n",
      "precision: 0.9377401998462721\n"
     ]
    },
    {
     "data": {
      "image/png": "[encoded data removed]",
      "text/plain": [
       "<Figure size 432x288 with 1 Axes>"
      ]
     },
     "metadata": {
      "needs_background": "light"
     },
     "output_type": "display_data"
    }
   ],
   "source": [
    "model_xgb = xgb.XGBClassifier(random_state=42, verbosity = 0)\n",
    "model_xgb.fit(X_train, y_train)\n",
    "xgb_pred = model_xgb.predict(X_test)\n",
    "evaluate_algorithms(X_train, X_test, y_train, y_test,xgb_pred,model=model_xgb)"
   ]
  },
  {
   "cell_type": "markdown",
   "id": "a4a3b3e7",
   "metadata": {},
   "source": [
    "Accuracy Summary"
   ]
  },
  {
   "cell_type": "code",
   "execution_count": 438,
   "id": "aefe47e1",
   "metadata": {},
   "outputs": [
    {
     "data": {
      "text/html": [
       "<div>\n",
       "<style scoped>\n",
       "    .dataframe tbody tr th:only-of-type {\n",
       "        vertical-align: middle;\n",
       "    }\n",
       "\n",
       "    .dataframe tbody tr th {\n",
       "        vertical-align: top;\n",
       "    }\n",
       "\n",
       "    .dataframe thead th {\n",
       "        text-align: right;\n",
       "    }\n",
       "</style>\n",
       "<table border=\"1\" class=\"dataframe\">\n",
       "  <thead>\n",
       "    <tr style=\"text-align: right;\">\n",
       "      <th></th>\n",
       "      <th>Model</th>\n",
       "      <th>ACC</th>\n",
       "    </tr>\n",
       "  </thead>\n",
       "  <tbody>\n",
       "    <tr>\n",
       "      <th>0</th>\n",
       "      <td>LR</td>\n",
       "      <td>0.771574</td>\n",
       "    </tr>\n",
       "    <tr>\n",
       "      <th>1</th>\n",
       "      <td>SVC</td>\n",
       "      <td>0.841859</td>\n",
       "    </tr>\n",
       "    <tr>\n",
       "      <th>2</th>\n",
       "      <td>KNN</td>\n",
       "      <td>0.851230</td>\n",
       "    </tr>\n",
       "    <tr>\n",
       "      <th>3</th>\n",
       "      <td>DT</td>\n",
       "      <td>0.888715</td>\n",
       "    </tr>\n",
       "    <tr>\n",
       "      <th>4</th>\n",
       "      <td>RF</td>\n",
       "      <td>0.944162</td>\n",
       "    </tr>\n",
       "    <tr>\n",
       "      <th>5</th>\n",
       "      <td>GBC</td>\n",
       "      <td>0.837954</td>\n",
       "    </tr>\n",
       "    <tr>\n",
       "      <th>6</th>\n",
       "      <td>XGB</td>\n",
       "      <td>0.957048</td>\n",
       "    </tr>\n",
       "  </tbody>\n",
       "</table>\n",
       "</div>"
      ],
      "text/plain": [
       "  Model       ACC\n",
       "0    LR  0.771574\n",
       "1   SVC  0.841859\n",
       "2   KNN  0.851230\n",
       "3    DT  0.888715\n",
       "4    RF  0.944162\n",
       "5   GBC  0.837954\n",
       "6   XGB  0.957048"
      ]
     },
     "execution_count": 438,
     "metadata": {},
     "output_type": "execute_result"
    }
   ],
   "source": [
    "performance_summary_accuracy = pd.DataFrame({\n",
    "    'Model':['LR','SVC','KNN','DT','RF','GBC','XGB'],\n",
    "    'ACC':[accuracy_score(y_test,LR_pred),\n",
    "           accuracy_score(y_test,svm_pred),\n",
    "           accuracy_score(y_test,knn_pred),\n",
    "           accuracy_score(y_test,dt_pred),\n",
    "           accuracy_score(y_test,rf_pred),\n",
    "           accuracy_score(y_test,gbc_pred),\n",
    "           accuracy_score(y_test,xgb_pred)\n",
    "          ]\n",
    "})\n",
    "performance_summary_accuracy"
   ]
  },
  {
   "cell_type": "code",
   "execution_count": 439,
   "id": "d13276a7",
   "metadata": {},
   "outputs": [
    {
     "data": {
      "text/plain": [
       "<AxesSubplot:xlabel='Model', ylabel='ACC'>"
      ]
     },
     "execution_count": 439,
     "metadata": {},
     "output_type": "execute_result"
    },
    {
     "data": {
      "image/png": "[encoded data removed]",
      "text/plain": [
       "<Figure size 432x288 with 1 Axes>"
      ]
     },
     "metadata": {
      "needs_background": "light"
     },
     "output_type": "display_data"
    }
   ],
   "source": [
    "sns.barplot(performance_summary_accuracy['Model'],performance_summary_accuracy['ACC'])"
   ]
  },
  {
   "cell_type": "markdown",
   "id": "6edff2be",
   "metadata": {},
   "source": [
    "Precision Summary"
   ]
  },
  {
   "cell_type": "code",
   "execution_count": 440,
   "id": "6435cab4",
   "metadata": {},
   "outputs": [
    {
     "data": {
      "text/html": [
       "<div>\n",
       "<style scoped>\n",
       "    .dataframe tbody tr th:only-of-type {\n",
       "        vertical-align: middle;\n",
       "    }\n",
       "\n",
       "    .dataframe tbody tr th {\n",
       "        vertical-align: top;\n",
       "    }\n",
       "\n",
       "    .dataframe thead th {\n",
       "        text-align: right;\n",
       "    }\n",
       "</style>\n",
       "<table border=\"1\" class=\"dataframe\">\n",
       "  <thead>\n",
       "    <tr style=\"text-align: right;\">\n",
       "      <th></th>\n",
       "      <th>Model</th>\n",
       "      <th>PRECISION</th>\n",
       "    </tr>\n",
       "  </thead>\n",
       "  <tbody>\n",
       "    <tr>\n",
       "      <th>0</th>\n",
       "      <td>LR</td>\n",
       "      <td>0.757364</td>\n",
       "    </tr>\n",
       "    <tr>\n",
       "      <th>1</th>\n",
       "      <td>SVC</td>\n",
       "      <td>0.829688</td>\n",
       "    </tr>\n",
       "    <tr>\n",
       "      <th>2</th>\n",
       "      <td>KNN</td>\n",
       "      <td>0.799310</td>\n",
       "    </tr>\n",
       "    <tr>\n",
       "      <th>3</th>\n",
       "      <td>DT</td>\n",
       "      <td>0.857037</td>\n",
       "    </tr>\n",
       "    <tr>\n",
       "      <th>4</th>\n",
       "      <td>RF</td>\n",
       "      <td>0.948136</td>\n",
       "    </tr>\n",
       "    <tr>\n",
       "      <th>5</th>\n",
       "      <td>GBC</td>\n",
       "      <td>0.807976</td>\n",
       "    </tr>\n",
       "    <tr>\n",
       "      <th>6</th>\n",
       "      <td>XGB</td>\n",
       "      <td>0.937740</td>\n",
       "    </tr>\n",
       "  </tbody>\n",
       "</table>\n",
       "</div>"
      ],
      "text/plain": [
       "  Model  PRECISION\n",
       "0    LR   0.757364\n",
       "1   SVC   0.829688\n",
       "2   KNN   0.799310\n",
       "3    DT   0.857037\n",
       "4    RF   0.948136\n",
       "5   GBC   0.807976\n",
       "6   XGB   0.937740"
      ]
     },
     "execution_count": 440,
     "metadata": {},
     "output_type": "execute_result"
    }
   ],
   "source": [
    "performance_summary_precision = pd.DataFrame({\n",
    "    'Model':['LR','SVC','KNN','DT','RF','GBC','XGB'],\n",
    "    'PRECISION':[precision_score(y_test,LR_pred),\n",
    "           precision_score(y_test,svm_pred),\n",
    "           precision_score(y_test,knn_pred),\n",
    "           precision_score(y_test,dt_pred),\n",
    "           precision_score(y_test,rf_pred),\n",
    "           precision_score(y_test,gbc_pred),\n",
    "            precision_score(y_test,xgb_pred)\n",
    "          ]\n",
    "})\n",
    "performance_summary_precision"
   ]
  },
  {
   "cell_type": "code",
   "execution_count": 441,
   "id": "df096605",
   "metadata": {},
   "outputs": [
    {
     "data": {
      "text/plain": [
       "<AxesSubplot:xlabel='Model', ylabel='PRECISION'>"
      ]
     },
     "execution_count": 441,
     "metadata": {},
     "output_type": "execute_result"
    },
    {
     "data": {
      "image/png": "[encoded data removed]",
      "text/plain": [
       "<Figure size 432x288 with 1 Axes>"
      ]
     },
     "metadata": {
      "needs_background": "light"
     },
     "output_type": "display_data"
    }
   ],
   "source": [
    "sns.barplot(performance_summary_precision['Model'],performance_summary_precision['PRECISION'])"
   ]
  },
  {
   "cell_type": "code",
   "execution_count": 442,
   "id": "c54792ea",
   "metadata": {},
   "outputs": [],
   "source": [
    "X_train = sc.fit_transform(X_train)"
   ]
  },
  {
   "cell_type": "code",
   "execution_count": 443,
   "id": "6f832bfd",
   "metadata": {},
   "outputs": [
    {
     "data": {
      "text/plain": [
       "Index(['Monthly_Premium', 'Open_Policies', 'Renew_Offer_Type',\n",
       "       'Vehicle_Age_In_Years', 'Weeks_Since_Claim', 'City_Denver',\n",
       "       'City_Fairfield', 'City_Indianapolis', 'City_Tampa',\n",
       "       'Work_Status_Employed', 'Work_Status_Medical Leave',\n",
       "       'Work_Status_Retired', 'Work_Status_Unemployed', 'Gender_Male',\n",
       "       'Coverage_Type_Premium_Plan', 'Coverage_Type_Primary_Plan',\n",
       "       'Accessbility_Customer_Call_Centre',\n",
       "       'Accessbility_Direct Branch Contact', 'Accessbility_Website',\n",
       "       'Vehicle_Type_Luxirious_Car', 'Vehicle_Type_Luxurious_SUV',\n",
       "       'Vehicle_Type_SUV', 'Vehicle_Type_Sedan_4 Door',\n",
       "       'Vehicle_Type_Sports Car'],\n",
       "      dtype='object')"
      ]
     },
     "execution_count": 443,
     "metadata": {},
     "output_type": "execute_result"
    }
   ],
   "source": [
    "X.columns"
   ]
  },
  {
   "cell_type": "code",
   "execution_count": 444,
   "id": "ce18a5e4",
   "metadata": {},
   "outputs": [
    {
     "data": {
      "text/plain": [
       "<AxesSubplot:>"
      ]
     },
     "execution_count": 444,
     "metadata": {},
     "output_type": "execute_result"
    },
    {
     "data": {
      "image/png": "[encoded data removed]",
      "text/plain": [
       "<Figure size 432x288 with 1 Axes>"
      ]
     },
     "metadata": {
      "needs_background": "light"
     },
     "output_type": "display_data"
    }
   ],
   "source": [
    "feat_importances = pd.Series(rf.feature_importances_, index=X.columns)\n",
    "feat_importances.nlargest(10).plot(kind='barh')"
   ]
  },
  {
   "cell_type": "code",
   "execution_count": 445,
   "id": "36064e68",
   "metadata": {},
   "outputs": [],
   "source": [
    "import joblib"
   ]
  },
  {
   "cell_type": "markdown",
   "id": "3d641093",
   "metadata": {},
   "source": [
    "Fitting the RF Model & dumping it into a file so that we can use this trained model for predictions."
   ]
  },
  {
   "cell_type": "code",
   "execution_count": 446,
   "id": "4273f23d",
   "metadata": {},
   "outputs": [],
   "source": [
    "rf.fit(X_res,y_res)\n",
    "joblib.dump(rf, 'rf_churn_predict_model')\n",
    "rf_model = joblib.load('rf_churn_predict_model')"
   ]
  },
  {
   "cell_type": "code",
   "execution_count": 447,
   "id": "558ebc54",
   "metadata": {},
   "outputs": [
    {
     "data": {
      "text/plain": [
       "array([0], dtype=uint8)"
      ]
     },
     "execution_count": 447,
     "metadata": {},
     "output_type": "execute_result"
    }
   ],
   "source": [
    "rf_model.predict([[138,1,1,10,138,0,0,1,0,1,0,0,0,0,0,1,0,0,0,0,0,0,0,0]])"
   ]
  },
  {
   "cell_type": "code",
   "execution_count": 448,
   "id": "a39c9d93",
   "metadata": {},
   "outputs": [
    {
     "data": {
      "text/plain": [
       "array([1], dtype=uint8)"
      ]
     },
     "execution_count": 448,
     "metadata": {},
     "output_type": "execute_result"
    }
   ],
   "source": [
    "rf_model.predict([[138,2,2,2,60,1,0,0,0,1,0,0,0,0,0,1,0,0,1,0,0,0,0,0]])"
   ]
  },
  {
   "cell_type": "code",
   "execution_count": null,
   "id": "cbabd159",
   "metadata": {},
   "outputs": [],
   "source": []
  }
 ],
 "metadata": {
  "kernelspec": {
   "display_name": "Python 3 (ipykernel)",
   "language": "python",
   "name": "python3"
  },
  "language_info": {
   "codemirror_mode": {
    "name": "ipython",
    "version": 3
   },
   "file_extension": ".py",
   "mimetype": "text/x-python",
   "name": "python",
   "nbconvert_exporter": "python",
   "pygments_lexer": "ipython3",
   "version": "3.9.12"
  }
 },
 "nbformat": 4,
 "nbformat_minor": 5
}
